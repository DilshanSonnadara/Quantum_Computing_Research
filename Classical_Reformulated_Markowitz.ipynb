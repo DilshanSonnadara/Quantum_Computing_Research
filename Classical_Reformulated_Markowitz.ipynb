{
 "cells": [
  {
   "cell_type": "markdown",
   "metadata": {},
   "source": [
    "# Reforumlated Markowitz Model - Optimization Codes "
   ]
  },
  {
   "cell_type": "markdown",
   "metadata": {},
   "source": [
    "Import the necessary libraries"
   ]
  },
  {
   "cell_type": "code",
   "execution_count": 36,
   "metadata": {},
   "outputs": [],
   "source": [
    "import numpy as np\n",
    "import pandas as pd\n",
    "import cvxpy as cp  \n",
    "import cvxopt\n",
    "import random\n",
    "import time"
   ]
  },
  {
   "cell_type": "markdown",
   "metadata": {},
   "source": [
    "Importing the Data"
   ]
  },
  {
   "cell_type": "code",
   "execution_count": 2,
   "metadata": {},
   "outputs": [],
   "source": [
    "df = pd.read_excel(\"Daily_Returns.xlsx\")"
   ]
  },
  {
   "cell_type": "markdown",
   "metadata": {},
   "source": [
    "Adding the date as an index"
   ]
  },
  {
   "cell_type": "code",
   "execution_count": 3,
   "metadata": {},
   "outputs": [],
   "source": [
    "# Convert the 'date' column to datetime format \n",
    "df['Date'] = pd.to_datetime(df['Date'])\n",
    "\n",
    "# Set the 'date' column as the index\n",
    "df.set_index('Date', inplace=True)"
   ]
  },
  {
   "cell_type": "markdown",
   "metadata": {},
   "source": [
    "Renaming the DataFrame"
   ]
  },
  {
   "cell_type": "code",
   "execution_count": 4,
   "metadata": {},
   "outputs": [],
   "source": [
    "df_returns=df"
   ]
  },
  {
   "cell_type": "markdown",
   "metadata": {},
   "source": [
    "Calculating the expected returns and the variance covariance matrix"
   ]
  },
  {
   "cell_type": "code",
   "execution_count": 5,
   "metadata": {},
   "outputs": [],
   "source": [
    "# Calculate expected returns for each asset\n",
    "expected_returns = df_returns.mean()\n",
    "\n",
    "# Calculate the variance-covariance matrix\n",
    "cov_matrix = df_returns.cov()\n",
    "\n",
    "\n",
    "#Converting the expected returns to a numpy array\n",
    "expected_returns = expected_returns.values\n",
    "\n",
    "#The number of assets\n",
    "n_assets = len(expected_returns)\n"
   ]
  },
  {
   "cell_type": "markdown",
   "metadata": {},
   "source": [
    "Setting the rest of the constraints for the reforumated problem"
   ]
  },
  {
   "cell_type": "code",
   "execution_count": 22,
   "metadata": {},
   "outputs": [],
   "source": [
    "# Maximum acceptable risk (R): The total risk that the portfolio can assume, based on variance-covariance matrix\n",
    "R = 0.1\n",
    "\n",
    "# Maximum units of each asset that can be purchased (D)\n",
    "D = 5\n",
    "\n",
    "# Maximum number of assets in the portfolio (K): The maximum number of different assets that can be included in the portfolio\n",
    "K = 15\n",
    "\n",
    "# The number of shares the investor would like to purchase\n",
    "S = 20"
   ]
  },
  {
   "cell_type": "code",
   "execution_count": 23,
   "metadata": {},
   "outputs": [],
   "source": [
    "# Variables to solve for\n",
    "x = cp.Variable(n_assets, integer=True)  # Units of each asset to purchase\n",
    "y = cp.Variable(n_assets, boolean=True)  # Binary variable for asset inclusion"
   ]
  },
  {
   "cell_type": "code",
   "execution_count": 24,
   "metadata": {},
   "outputs": [],
   "source": [
    "# Creating the weights\n",
    "w = x/S"
   ]
  },
  {
   "cell_type": "markdown",
   "metadata": {},
   "source": [
    "Setting up the optimization problem"
   ]
  },
  {
   "cell_type": "code",
   "execution_count": 25,
   "metadata": {},
   "outputs": [],
   "source": [
    "\n",
    "# Constraints\n",
    "risk_constraint = cp.quad_form(w, cov_matrix) <=  R**2  # Risk constraint\n",
    "diversification_constraints = [x[i] <= D*y[i] for i in range(n_assets)]  # Diversification and linking\n",
    "cardinality_constraint = cp.sum(y) <= K  # Cardinality constraint\n",
    "non_negativity_constraints = [x >= 0]  # Ensure x is non-negative \n",
    "total_sum_constraint = [cp.sum(x)==S]\n",
    "\n",
    "# Objective function to maximize total expected return\n",
    "objective = cp.Maximize(expected_returns @ w)\n",
    "\n",
    "# Problem definition\n",
    "problem = cp.Problem(objective, [risk_constraint, cardinality_constraint] + non_negativity_constraints +diversification_constraints + total_sum_constraint )"
   ]
  },
  {
   "cell_type": "markdown",
   "metadata": {},
   "source": [
    "Solving the optimization problem"
   ]
  },
  {
   "cell_type": "code",
   "execution_count": 26,
   "metadata": {},
   "outputs": [
    {
     "name": "stdout",
     "output_type": "stream",
     "text": [
      "Status: optimal\n",
      "Maximum Expected Return: 0.0012809926490892003\n",
      "Units of each asset to purchase: [-0.  5. -0. -0. -0. -0. -0. -0. -0. -0. -0. -0. -0. -0. -0. -0.  5. -0.\n",
      " -0. -0. -0. -0. -0. -0. -0. -0. -0. -0. -0. -0. -0. -0. -0. -0. -0. -0.\n",
      " -0. -0. -0. -0. -0. -0. -0. -0. -0. -0. -0. -0. -0. -0. -0. -0. -0. -0.\n",
      " -0. -0. -0. -0. -0. -0. -0. -0. -0. -0. -0. -0. -0. -0. -0. -0. -0. -0.\n",
      " -0. -0. -0. -0. -0. -0. -0. -0. -0. -0. -0. -0. -0. -0. -0. -0. -0. -0.\n",
      " -0. -0. -0. -0. -0. -0. -0. -0. -0. -0. -0. -0. -0. -0. -0. -0. -0. -0.\n",
      " -0. -0. -0. -0. -0. -0. -0. -0. -0. -0. -0. -0. -0. -0. -0. -0. -0. -0.\n",
      " -0. -0. -0. -0.  5. -0. -0. -0. -0. -0. -0. -0.  5. -0. -0. -0. -0. -0.\n",
      " -0.]\n",
      "Assets included in the portfolio: [0. 1. 0. 0. 0. 0. 0. 0. 0. 0. 0. 0. 0. 0. 0. 0. 1. 0. 0. 0. 0. 0. 0. 0.\n",
      " 0. 0. 0. 0. 0. 0. 0. 0. 0. 0. 0. 0. 0. 0. 0. 0. 0. 0. 0. 0. 0. 0. 0. 0.\n",
      " 0. 0. 0. 0. 0. 0. 0. 0. 0. 0. 0. 0. 0. 0. 0. 0. 0. 0. 0. 0. 0. 0. 0. 0.\n",
      " 0. 0. 0. 0. 0. 0. 0. 0. 0. 0. 0. 0. 0. 0. 0. 0. 0. 0. 0. 0. 0. 0. 0. 0.\n",
      " 0. 0. 0. 0. 0. 0. 0. 0. 0. 0. 0. 0. 0. 0. 0. 0. 0. 0. 0. 0. 0. 0. 0. 0.\n",
      " 0. 0. 0. 0. 0. 0. 0. 0. 0. 0. 1. 0. 0. 0. 0. 0. 0. 0. 1. 0. 0. 0. 0. 0.\n",
      " 0.]\n"
     ]
    }
   ],
   "source": [
    "# Solving the problem\n",
    "problem.solve(solver=cp.CPLEX)\n",
    "\n",
    "\n",
    "# Results\n",
    "print(\"Status:\", problem.status)\n",
    "print(\"Maximum Expected Return:\", problem.value)\n",
    "print(\"Units of each asset to purchase:\", x.value)\n",
    "print(\"Assets included in the portfolio:\", y.value)"
   ]
  },
  {
   "cell_type": "markdown",
   "metadata": {},
   "source": [
    "Now let us test to see if all the constraints are satisfied"
   ]
  },
  {
   "cell_type": "code",
   "execution_count": 33,
   "metadata": {},
   "outputs": [
    {
     "name": "stdout",
     "output_type": "stream",
     "text": [
      "Risk Constraint Satisfied: True\n",
      "Risk Value: 0.019487885441359105 <= 0.1\n",
      "Diversification and Linking Constraints Satisfied: True\n",
      "Cardinality Constraint Satisfied: True\n",
      "Number of Assets Included: 4 <= 15\n",
      "Non-negativity Constraints Satisfied: True\n",
      "Sum of units Constraint Satisfied: True\n",
      "Number of Units Included: 20.0 <= 20\n"
     ]
    }
   ],
   "source": [
    "# Convert x.value and y.value to numpy arrays for easy manipulation\n",
    "x_optimized = np.array(x.value)\n",
    "y_optimized = np.array(y.value)\n",
    "w_optimized = np.array(x_optimized/S)\n",
    "\n",
    "# Constraint 1: Risk constraint\n",
    "risk_value = np.dot(np.dot(w_optimized.T, cov_matrix), w_optimized)\n",
    "print(f\"Risk Constraint Satisfied: {np.sqrt(risk_value) <= R}\")\n",
    "print(f\"Risk Value: {np.sqrt(risk_value)} <= {R}\")\n",
    "\n",
    "# Constraint 2: Diversification and linking constraint\n",
    "diversification_values = x_optimized <= D * y_optimized\n",
    "print(f\"Diversification and Linking Constraints Satisfied: {all(diversification_values)}\")\n",
    "\n",
    "# Constraint 3: Cardinality constraint\n",
    "cardinality_value = (x_optimized > 0).sum()\n",
    "print(f\"Cardinality Constraint Satisfied: {cardinality_value <= K}\")\n",
    "print(f\"Number of Assets Included: {cardinality_value} <= {K}\")\n",
    "\n",
    "# Constraint 4: Non-negativity constraint\n",
    "non_negativity_satisfied = all(x_optimized >= 0)\n",
    "print(f\"Non-negativity Constraints Satisfied: {non_negativity_satisfied}\") \n",
    "\n",
    "# Constraint 5: sum of shares constraint\n",
    "total_share = np.sum(x_optimized)\n",
    "print(f\"Sum of units Constraint Satisfied: {total_share <= S}\")\n",
    "print(f\"Number of Units Included: {total_share} <= {S}\")"
   ]
  },
  {
   "cell_type": "markdown",
   "metadata": {},
   "source": [
    "Checking the assets to invest in"
   ]
  },
  {
   "cell_type": "code",
   "execution_count": 34,
   "metadata": {},
   "outputs": [
    {
     "name": "stdout",
     "output_type": "stream",
     "text": [
      "  Column Name  Value\n",
      "0        AAPL    5.0\n",
      "1        ALGN    5.0\n",
      "2        NFLX    5.0\n",
      "3        TSLA    5.0\n"
     ]
    }
   ],
   "source": [
    "values_list = x.value\n",
    "\n",
    "# Creating a new DataFrame with column names and values where values are > 0\n",
    "filtered_data = {'Column Name': [], 'Value': []}\n",
    "for column_name, value in zip(df.columns, values_list):\n",
    "    if value > 0:\n",
    "        filtered_data['Column Name'].append(column_name)\n",
    "        filtered_data['Value'].append(value)\n",
    "\n",
    "new_df = pd.DataFrame(filtered_data)\n",
    "\n",
    "print(new_df)\n"
   ]
  },
  {
   "cell_type": "markdown",
   "metadata": {},
   "source": [
    "Looping it all"
   ]
  },
  {
   "cell_type": "code",
   "execution_count": 35,
   "metadata": {},
   "outputs": [],
   "source": [
    "# Maximum acceptable risk (R): The total risk that the portfolio can assume, based on variance-covariance matrix\n",
    "Variance_Values = [i / 100 for i in range(1, 21)]\n",
    "\n",
    "#Sum of shares\n",
    "S = 1000"
   ]
  },
  {
   "cell_type": "code",
   "execution_count": 37,
   "metadata": {},
   "outputs": [
    {
     "name": "stdout",
     "output_type": "stream",
     "text": [
      "0.01\n",
      "0.02\n",
      "0.03\n",
      "0.04\n",
      "0.05\n",
      "0.06\n",
      "0.07\n",
      "0.08\n",
      "0.09\n",
      "0.1\n",
      "0.11\n",
      "0.12\n",
      "0.13\n",
      "0.14\n",
      "0.15\n",
      "0.16\n",
      "0.17\n",
      "0.18\n",
      "0.19\n",
      "0.2\n"
     ]
    }
   ],
   "source": [
    "\"\"\"\n",
    "\n",
    "We will now loop over multiple risk values to calculate the return and get an efficient frontier and generate\n",
    "each of the portfolios for these risk values. Note that all the constraints except the number of shares the investor should invest\n",
    "in would be relaxed in this solution for the purpose of comparing with the vanilla markowitz model.\n",
    "\n",
    "\"\"\"\n",
    "\n",
    "results_list = []  # Initialize the list\n",
    "\n",
    "for R in Variance_Values:\n",
    "\n",
    "    \n",
    "    # Check the variance value\n",
    "    print(R)\n",
    "\n",
    "\n",
    "    # Variables to solve for\n",
    "    x = cp.Variable(n_assets, integer=True)  # Units of each asset to purchase\n",
    "    y = cp.Variable(n_assets, boolean=True)  # Binary variable for asset inclusion\n",
    "\n",
    "    # Creating the weights\n",
    "    w = x/S\n",
    "\n",
    "    # Constraints\n",
    "    risk_constraint = cp.quad_form(w, cov_matrix) <=  R**2  # Risk constraint\n",
    "    non_negativity_constraints = [x >= 0]  # Ensure x is non-negative \n",
    "    total_sum_constraint = [cp.sum(x)==S]\n",
    "\n",
    "\n",
    "    # Objective function to maximize total expected return\n",
    "    objective = cp.Maximize(expected_returns @ w)\n",
    "\n",
    "    # Problem definition\n",
    "    problem = cp.Problem(objective, [risk_constraint] + non_negativity_constraints + total_sum_constraint )\n",
    "\n",
    "    # Time the sampler\n",
    "    start_time = time.time()\n",
    "        \n",
    "    # Solving the problem\n",
    "    problem.solve(solver=cp.CPLEX)\n",
    "\n",
    "    time_taken = time.time() - start_time\n",
    "\n",
    "\n",
    "    #Recreating the original variables\n",
    "    x_optimized = np.array(x.value)\n",
    "    y_optimized = np.array(y.value)\n",
    "    w_optimized = x_optimized/S\n",
    "\n",
    " \n",
    "\n",
    "    #Calculating the total return\n",
    "    weights = [x/S for x in x.value]\n",
    "\n",
    "    # Multiply corresponding elements and sum them up\n",
    "    total = sum(x * y for x, y in zip(expected_returns, weights))\n",
    "\n",
    "    # Constraint 1: Risk constraint\n",
    "    risk_value = np.sqrt(np.dot(np.dot(w_optimized.T, cov_matrix), w_optimized))\n",
    "\n",
    "    # Constraint 2: Non-negativity constraint\n",
    "    non_negativity_satisfied = all(x_optimized >= 0)\n",
    "\n",
    "    # Constraint 3: Sum of shares constraint\n",
    "    sum_of_shares_satisfied = sum(x_optimized) == S\n",
    "\n",
    "    #Creating the asset dataframe\n",
    "    values_list = x_optimized.tolist()\n",
    "\n",
    "    # Creating a new DataFrame with column names and values where values are > 0\n",
    "    filtered_data = {'Asset': [], 'Value': []}\n",
    "    for column_name, value in zip(df.columns, values_list):\n",
    "        if value > 0:\n",
    "            filtered_data['Asset'].append(column_name)\n",
    "            filtered_data['Value'].append(value)\n",
    "\n",
    "    # Create a dictionary for the current iteration\n",
    "    iteration_results = {\n",
    "        'time_taken': time_taken,\n",
    "        'risk_value': risk_value,\n",
    "        'R': R,\n",
    "        'total_return': total,\n",
    "        'risk_constraint_satisfied': risk_value <= R,\n",
    "        'non_negativity_satisfied': non_negativity_satisfied,\n",
    "        'Total_Shares_satisfied': sum_of_shares_satisfied,\n",
    "        'assets_included_df': filtered_data\n",
    "    }\n",
    "\n",
    "    # Step 4: Append this dictionary to the list\n",
    "    results_list.append(iteration_results)"
   ]
  },
  {
   "cell_type": "markdown",
   "metadata": {},
   "source": [
    "Creating a dataframe of results"
   ]
  },
  {
   "cell_type": "code",
   "execution_count": 39,
   "metadata": {},
   "outputs": [],
   "source": [
    "# Creating a DataFrame from results_list for specific metrics\n",
    "metrics_columns = [\n",
    "    'time_taken',\n",
    "    'risk_value',\n",
    "    'R',\n",
    "    'total_return',\n",
    "    'risk_constraint_satisfied',\n",
    "    'non_negativity_satisfied',\n",
    "    'Total_Shares_satisfied'\n",
    "]\n",
    "\n",
    "# Use a list comprehension to pick out these specific keys from each dictionary in the results list\n",
    "final_results_data = [{col: result[col] for col in metrics_columns} for result in results_list]\n",
    "\n",
    "# Convert this list of dictionaries to a DataFrame\n",
    "final_results_df = pd.DataFrame(final_results_data)\n",
    "\n",
    "# Save the DataFrame as an Excel file\n",
    "final_results_df.to_excel('Final_Results.xlsx', index=False)\n"
   ]
  },
  {
   "cell_type": "markdown",
   "metadata": {},
   "source": [
    "Creating the excel of asset allocations"
   ]
  },
  {
   "cell_type": "code",
   "execution_count": 40,
   "metadata": {},
   "outputs": [],
   "source": [
    "for i, result in enumerate(results_list, start=1):\n",
    "    # Convert filtered_data (which replaced new_df) to a DataFrame\n",
    "    assets_df = pd.DataFrame(result['assets_included_df'])\n",
    "    \n",
    "    # Save the DataFrame as an Excel file\n",
    "    file_name = f'Assets{i}.xlsx'\n",
    "    assets_df.to_excel(file_name, index=False)"
   ]
  }
 ],
 "metadata": {
  "kernelspec": {
   "display_name": "venv",
   "language": "python",
   "name": "python3"
  },
  "language_info": {
   "codemirror_mode": {
    "name": "ipython",
    "version": 3
   },
   "file_extension": ".py",
   "mimetype": "text/x-python",
   "name": "python",
   "nbconvert_exporter": "python",
   "pygments_lexer": "ipython3",
   "version": "3.9.10"
  }
 },
 "nbformat": 4,
 "nbformat_minor": 2
}
