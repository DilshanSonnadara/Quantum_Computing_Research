{
 "cells": [
  {
   "cell_type": "markdown",
   "metadata": {},
   "source": [
    "# Reforumlated Markowitz Model - Optimization Codes "
   ]
  },
  {
   "cell_type": "markdown",
   "metadata": {},
   "source": [
    "Import the necessary libraries"
   ]
  },
  {
   "cell_type": "code",
   "execution_count": 47,
   "metadata": {},
   "outputs": [],
   "source": [
    "import numpy as np\n",
    "import pandas as pd\n",
    "import cvxpy as cp  \n",
    "import cvxopt\n",
    "import time"
   ]
  },
  {
   "cell_type": "markdown",
   "metadata": {},
   "source": [
    "### Generating a single portfolio"
   ]
  },
  {
   "cell_type": "markdown",
   "metadata": {},
   "source": [
    "Importing the Data"
   ]
  },
  {
   "cell_type": "code",
   "execution_count": 48,
   "metadata": {},
   "outputs": [],
   "source": [
    "df = pd.read_excel(\"Daily_Returns.xlsx\")"
   ]
  },
  {
   "cell_type": "markdown",
   "metadata": {},
   "source": [
    "Adding the date as an index"
   ]
  },
  {
   "cell_type": "code",
   "execution_count": 49,
   "metadata": {},
   "outputs": [],
   "source": [
    "# Convert the 'date' column to datetime format \n",
    "df['Date'] = pd.to_datetime(df['Date'])\n",
    "\n",
    "# Set the 'date' column as the index\n",
    "df.set_index('Date', inplace=True)"
   ]
  },
  {
   "cell_type": "markdown",
   "metadata": {},
   "source": [
    "Renaming the DataFrame"
   ]
  },
  {
   "cell_type": "code",
   "execution_count": 50,
   "metadata": {},
   "outputs": [],
   "source": [
    "df_returns=df"
   ]
  },
  {
   "cell_type": "markdown",
   "metadata": {},
   "source": [
    "Calculating the expected returns and the variance covariance matrix"
   ]
  },
  {
   "cell_type": "code",
   "execution_count": 51,
   "metadata": {},
   "outputs": [],
   "source": [
    "# Calculate annualized average return for each stock. \n",
    "expected_returns = np.mean(df_returns,axis=0)*252\n",
    "\n",
    "# Calculate the variance-covariance matrix\n",
    "cov_matrix = df_returns.cov()\n",
    "\n",
    "\n",
    "#Converting the expected returns to a numpy array\n",
    "expected_returns = expected_returns.values\n",
    "\n",
    "#The number of assets\n",
    "n_assets = len(expected_returns)\n"
   ]
  },
  {
   "cell_type": "markdown",
   "metadata": {},
   "source": [
    "Setting the rest of the constraints for the reforumated problem"
   ]
  },
  {
   "cell_type": "code",
   "execution_count": 52,
   "metadata": {},
   "outputs": [],
   "source": [
    "# Maximum acceptable risk (R): The total risk that the portfolio can assume, based on variance-covariance matrix\n",
    "R = 0.1\n",
    "\n",
    "# Maximum units of each asset that can be purchased (D)\n",
    "D = 150\n",
    "\n",
    "# Maximum number of assets in the portfolio (K): The maximum number of different assets that can be included in the portfolio\n",
    "K = 15\n",
    "\n",
    "# The number of shares the investor would like to purchase\n",
    "S = 1000"
   ]
  },
  {
   "cell_type": "code",
   "execution_count": 53,
   "metadata": {},
   "outputs": [],
   "source": [
    "# Variables to solve for\n",
    "x = cp.Variable(n_assets, integer=True)  # Units of each asset to purchase\n",
    "y = cp.Variable(n_assets, boolean=True)  # Binary variable for asset inclusion"
   ]
  },
  {
   "cell_type": "code",
   "execution_count": 54,
   "metadata": {},
   "outputs": [],
   "source": [
    "# Creating the weights\n",
    "w = x/S"
   ]
  },
  {
   "cell_type": "markdown",
   "metadata": {},
   "source": [
    "Setting up the optimization problem"
   ]
  },
  {
   "cell_type": "code",
   "execution_count": 55,
   "metadata": {},
   "outputs": [],
   "source": [
    "\n",
    "# Constraints\n",
    "risk_constraint = cp.quad_form(w, cov_matrix) <=  R**2  # Risk constraint\n",
    "diversification_constraints = [x[i] <= D*y[i] for i in range(n_assets)]  # Diversification and linking\n",
    "cardinality_constraint = cp.sum(y) <= K  # Cardinality constraint\n",
    "non_negativity_constraints = [x >= 0]  # Ensure x is non-negative \n",
    "total_sum_constraint = [cp.sum(x)==S] #Ensure that the sum of shares is S\n",
    "\n",
    "# Objective function to maximize total expected return\n",
    "objective = cp.Maximize(expected_returns @ w)\n",
    "\n",
    "# Problem definition\n",
    "problem = cp.Problem(objective, [risk_constraint, cardinality_constraint] + non_negativity_constraints +diversification_constraints + total_sum_constraint )"
   ]
  },
  {
   "cell_type": "markdown",
   "metadata": {},
   "source": [
    "Solving the optimization problem"
   ]
  },
  {
   "cell_type": "code",
   "execution_count": 56,
   "metadata": {},
   "outputs": [
    {
     "name": "stdout",
     "output_type": "stream",
     "text": [
      "Status: optimal\n",
      "Maximum Expected Return: 0.3060180081039116\n",
      "Units of each asset to purchase: [ -0. 150.  -0.  -0.  -0.  -0.  -0.  -0.  -0.  -0.  -0.  -0.  -0.  -0.\n",
      "  -0.  -0. 150.  -0.  -0.  -0.  -0.  -0.  -0.  -0.  -0.  -0.  -0.  -0.\n",
      "  -0.  -0.  -0.  -0.  -0.  -0.  -0.  -0.  -0.  -0.  -0.  -0.  -0.  -0.\n",
      "  -0.  -0.  -0.  -0.  -0.  -0. 150.  -0.  -0.  -0.  -0.  -0.  -0.  -0.\n",
      "  -0.  -0.  -0.  -0.  -0.  -0.  -0.  -0.  -0.  -0.  -0.  -0.  -0.  -0.\n",
      "  -0.  -0.  -0.  -0.  -0.  -0.  -0.  -0.  -0.  -0.  -0.  -0.  -0.  -0.\n",
      "  -0.  -0.  -0.  -0.  -0.  -0.  -0.  -0.  -0.  -0.  -0.  -0.  -0.  -0.\n",
      "  -0.  -0.  -0.  -0.  -0.  -0.  -0.  -0.  -0.  -0.  -0.  -0.  -0.  -0.\n",
      " 100.  -0.  -0.  -0.  -0.  -0.  -0.  -0.  -0.  -0. 150.  -0.  -0.  -0.\n",
      "  -0.  -0.  -0.  -0. 150.  -0.  -0.  -0.  -0.  -0.  -0.  -0. 150.  -0.\n",
      "  -0.  -0.  -0.  -0.  -0.]\n",
      "Assets included in the portfolio: [0. 1. 0. 0. 0. 0. 0. 0. 0. 0. 0. 0. 0. 0. 0. 0. 1. 0. 0. 0. 0. 0. 0. 0.\n",
      " 0. 0. 0. 0. 0. 0. 0. 0. 0. 0. 0. 0. 0. 0. 0. 0. 0. 0. 0. 0. 0. 0. 0. 0.\n",
      " 1. 0. 0. 0. 0. 0. 0. 0. 0. 0. 0. 0. 0. 0. 0. 0. 0. 0. 0. 0. 0. 0. 0. 0.\n",
      " 0. 0. 0. 0. 0. 0. 0. 0. 0. 0. 0. 0. 0. 0. 0. 0. 0. 0. 0. 0. 0. 0. 0. 0.\n",
      " 0. 0. 0. 0. 0. 0. 0. 0. 0. 0. 0. 0. 0. 0. 0. 0. 1. 0. 0. 0. 0. 0. 0. 0.\n",
      " 0. 0. 1. 0. 0. 0. 0. 0. 0. 0. 1. 0. 0. 0. 0. 0. 0. 0. 1. 0. 0. 0. 0. 0.\n",
      " 0.]\n"
     ]
    }
   ],
   "source": [
    "# Solving the problem\n",
    "problem.solve(solver=cp.CPLEX)\n",
    "\n",
    "\n",
    "# Results\n",
    "print(\"Status:\", problem.status)\n",
    "print(\"Maximum Expected Return:\", problem.value)\n",
    "print(\"Units of each asset to purchase:\", x.value)\n",
    "print(\"Assets included in the portfolio:\", y.value)"
   ]
  },
  {
   "cell_type": "markdown",
   "metadata": {},
   "source": [
    "Now let us test to see if all the constraints are satisfied"
   ]
  },
  {
   "cell_type": "code",
   "execution_count": 57,
   "metadata": {},
   "outputs": [
    {
     "name": "stdout",
     "output_type": "stream",
     "text": [
      "Risk Constraint Satisfied: True\n",
      "Risk Value: 0.01769587479509449 <= 0.1\n",
      "Diversification and Linking Constraints Satisfied: True\n",
      "Cardinality Constraint Satisfied: True\n",
      "Number of Assets Included: 7 <= 15\n",
      "Non-negativity Constraints Satisfied: True\n",
      "Sum of units Constraint Satisfied: True\n",
      "Number of Units Included: 1000.0 == 1000\n"
     ]
    }
   ],
   "source": [
    "# Convert x.value and y.value to numpy arrays for easy manipulation\n",
    "x_optimized = np.array(x.value)\n",
    "y_optimized = np.array(y.value)\n",
    "w_optimized = np.array(x_optimized/S)\n",
    "\n",
    "# Constraint 1: Risk constraint\n",
    "risk_value = np.dot(np.dot(w_optimized.T, cov_matrix), w_optimized)\n",
    "print(f\"Risk Constraint Satisfied: {np.sqrt(risk_value) <= R}\")\n",
    "print(f\"Risk Value: {np.sqrt(risk_value)} <= {R}\")\n",
    "\n",
    "# Constraint 2: Diversification and linking constraint\n",
    "diversification_values = x_optimized <= D * y_optimized\n",
    "print(f\"Diversification and Linking Constraints Satisfied: {all(diversification_values)}\")\n",
    "\n",
    "# Constraint 3: Cardinality constraint\n",
    "cardinality_value = (x_optimized > 0).sum()\n",
    "print(f\"Cardinality Constraint Satisfied: {cardinality_value <= K}\")\n",
    "print(f\"Number of Assets Included: {cardinality_value} <= {K}\")\n",
    "\n",
    "# Constraint 4: Non-negativity constraint\n",
    "non_negativity_satisfied = all(x_optimized >= 0)\n",
    "print(f\"Non-negativity Constraints Satisfied: {non_negativity_satisfied}\") \n",
    "\n",
    "# Constraint 5: sum of shares constraint\n",
    "total_share = np.sum(x_optimized)\n",
    "print(f\"Sum of units Constraint Satisfied: {total_share == S}\")\n",
    "print(f\"Number of Units Included: {total_share} == {S}\")"
   ]
  },
  {
   "cell_type": "markdown",
   "metadata": {},
   "source": [
    "### Generating multiple portfolios and the efficient frontier"
   ]
  },
  {
   "cell_type": "code",
   "execution_count": 58,
   "metadata": {},
   "outputs": [],
   "source": [
    "\"\"\"\n",
    "For this purpose, all the constraints except for the non negativity constraint,\n",
    "sum of shares constraint and the risk constraint will be dropped so as to compare\n",
    "the results being obtained with the vanilla markowits model\n",
    "\"\"\"\n",
    "\n",
    "#Setting the total number of shares to purchase\n",
    "S=1000"
   ]
  },
  {
   "cell_type": "markdown",
   "metadata": {},
   "source": [
    "Finding the portfolio with maximum return"
   ]
  },
  {
   "cell_type": "code",
   "execution_count": 59,
   "metadata": {},
   "outputs": [
    {
     "name": "stdout",
     "output_type": "stream",
     "text": [
      "Status: optimal\n",
      "Maximum Expected Return: 0.3953949881466527\n",
      "Units of each asset to purchase: [  -0.   -0.   -0.   -0.   -0.   -0.   -0.   -0.   -0.   -0.   -0.   -0.\n",
      "   -0.   -0.   -0.   -0.   -0.   -0.   -0.   -0.   -0.   -0.   -0.   -0.\n",
      "   -0.   -0.   -0.   -0.   -0.   -0.   -0.   -0.   -0.   -0.   -0.   -0.\n",
      "   -0.   -0.   -0.   -0.   -0.   -0.   -0.   -0.   -0.   -0.   -0.   -0.\n",
      "   -0.   -0.   -0.   -0.   -0.   -0.   -0.   -0.   -0.   -0.   -0.   -0.\n",
      "   -0.   -0.   -0.   -0.   -0.   -0.   -0.   -0.   -0.   -0.   -0.   -0.\n",
      "   -0.   -0.   -0.   -0.   -0.   -0.   -0.   -0.   -0.   -0.   -0.   -0.\n",
      "   -0.   -0.   -0.   -0.   -0.   -0.   -0.   -0.   -0.   -0.   -0.   -0.\n",
      "   -0.   -0.   -0.   -0.   -0.   -0.   -0.   -0.   -0.   -0.   -0.   -0.\n",
      "   -0.   -0.   -0.   -0.   -0.   -0.   -0.   -0.   -0.   -0.   -0.   -0.\n",
      "   -0.   -0.   -0.   -0.   -0.   -0.   -0.   -0.   -0.   -0. 1000.   -0.\n",
      "   -0.   -0.   -0.   -0.   -0.   -0.   -0.   -0.   -0.   -0.   -0.   -0.\n",
      "   -0.]\n",
      "Risk Value: 0.03370164072424207\n"
     ]
    }
   ],
   "source": [
    "\"\"\"\n",
    "For this portfolio with the maximum return\n",
    "the risk constraint will also be dropped\n",
    "\"\"\"\n",
    "\n",
    "# Variables to solve for\n",
    "x = cp.Variable(n_assets, integer=True)  # Units of each asset to purchase\n",
    "\n",
    "\n",
    "# Creating the weights\n",
    "w = x/S\n",
    "\n",
    "#Adding the sum constraint\n",
    "total_sum_constraint = [cp.sum(x)==S]\n",
    "\n",
    "# Objective function to maximize total expected return\n",
    "objective = cp.Maximize(expected_returns @ w)\n",
    "\n",
    "non_negativity_constraints = [x >= 0]  # Ensure x is non-negative \n",
    "\n",
    "# Problem definition\n",
    "problem = cp.Problem(objective, total_sum_constraint+ non_negativity_constraints)\n",
    "\n",
    "# Solving the problem\n",
    "problem.solve(solver=cp.CPLEX)\n",
    "\n",
    "\n",
    "# Results\n",
    "print(\"Status:\", problem.status)\n",
    "print(\"Maximum Expected Return:\", problem.value)\n",
    "print(\"Units of each asset to purchase:\", x.value)\n",
    "\n",
    "\n",
    "# Convert x.value to numpy arrays for easy manipulation\n",
    "x_optimized = np.array(x.value)\n",
    "w_optimized = np.array(x_optimized/S)\n",
    "\n",
    "# Risk constraint\n",
    "risk_value_maximum = np.sqrt(np.dot(np.dot(w_optimized.T, cov_matrix), w_optimized))\n",
    "print(f\"Risk Value: {risk_value_maximum}\")"
   ]
  },
  {
   "cell_type": "markdown",
   "metadata": {},
   "source": [
    "Finding the portfolio with minimum risk"
   ]
  },
  {
   "cell_type": "code",
   "execution_count": 60,
   "metadata": {},
   "outputs": [
    {
     "name": "stdout",
     "output_type": "stream",
     "text": [
      "Status: optimal\n",
      "Maximum Expected Return: 9.4690142814331e-05\n",
      "Units of each asset to purchase: [  -0.   -0.   -0.   -0.   -0.   -0.   -0.   -0.   -0.   -0.   -0.   -0.\n",
      "   -0.   -0.   -0.   -0.   -0.   -0.   -0.   -0.   -0.   -0.   -0.   -0.\n",
      "   -0.   -0.   -0.   -0.   -0.   -0.   -0.   -0.   -0.   -0.   -0.   -0.\n",
      "   -0.   -0.   -0.   -0.   -0.   -0.   -0.   -0.   -0.   -0.   -0.   -0.\n",
      "   -0.   -0.   -0.   -0.   -0.   -0.   -0.   -0.   -0.   -0.   -0.   -0.\n",
      "   -0.   -0.   -0.   -0.   -0.   -0.   -0.   -0.   -0.   -0.   -0.   -0.\n",
      "   -0.   -0.   -0.   -0.   -0.   -0.   -0.   -0.   -0.   -0.   -0.   -0.\n",
      "   -0.   -0.   -0.   -0.   -0.   -0.   -0.   -0.   -0.   -0.   -0.   -0.\n",
      "   -0. 1000.   -0.   -0.   -0.   -0.   -0.   -0.   -0.   -0.   -0.   -0.\n",
      "   -0.   -0.   -0.   -0.   -0.   -0.   -0.   -0.   -0.   -0.   -0.   -0.\n",
      "   -0.   -0.   -0.   -0.   -0.   -0.   -0.   -0.   -0.   -0.   -0.   -0.\n",
      "   -0.   -0.   -0.   -0.   -0.   -0.   -0.   -0.   -0.   -0.   -0.   -0.\n",
      "   -0.]\n",
      "Risk Value: 0.009730886024115738\n"
     ]
    }
   ],
   "source": [
    "\"\"\"\n",
    "For this purpose the objective function\n",
    "will be to minimize the risk and the sum of shares constraint\n",
    "along with the non negativity constraint will be the only ones kept\n",
    "\"\"\"\n",
    "\n",
    "# Variables to solve for\n",
    "x = cp.Variable(n_assets, integer=True)  # Units of each asset to purchase\n",
    "\n",
    "# Creating the weights\n",
    "w = x/S\n",
    "\n",
    "#Adding the sum of shares constraint\n",
    "total_sum_constraint = [cp.sum(x)==S]\n",
    "\n",
    "\n",
    "# Objective function to maximize total risk\n",
    "objective = cp.Minimize(cp.quad_form(w, cov_matrix))\n",
    "\n",
    "#Adding the non negativity constraint\n",
    "non_negativity_constraints = [x >= 0]   \n",
    "\n",
    "# Problem definition\n",
    "problem = cp.Problem(objective, total_sum_constraint+ non_negativity_constraints)\n",
    "\n",
    "# Solving the problem\n",
    "problem.solve(solver=cp.CPLEX)\n",
    "\n",
    "\n",
    "# Results\n",
    "print(\"Status:\", problem.status)\n",
    "print(\"Maximum Expected Return:\", problem.value)\n",
    "print(\"Units of each asset to purchase:\", x.value)\n",
    "\n",
    "\n",
    "# Convert x.value to numpy arrays for easy manipulation\n",
    "x_optimized = np.array(x.value)\n",
    "w_optimized = np.array(x_optimized/S)\n",
    "\n",
    "# Risk constraint\n",
    "risk_value_minimum = np.sqrt(np.dot(np.dot(w_optimized.T, cov_matrix), w_optimized))\n",
    "print(f\"Risk Value: {risk_value_minimum}\")"
   ]
  },
  {
   "cell_type": "markdown",
   "metadata": {},
   "source": [
    "Finding the portfolio with a 1% risk"
   ]
  },
  {
   "cell_type": "code",
   "execution_count": 1,
   "metadata": {},
   "outputs": [
    {
     "data": {
      "text/plain": [
       "'\\nIt is not always possible to generate efficient results for\\na integer programming problem using classicial computing. Hence,\\nthe efficient frontier will not be generated, as even the code given\\nbelow to generate a portfolio with a risk value less than 1% takes\\nmore than 1 hour to run. Thus, it is computationally not possible\\nto generate an efficient frontier for a risk value of 1% using CPLEX\\n'"
      ]
     },
     "execution_count": 1,
     "metadata": {},
     "output_type": "execute_result"
    }
   ],
   "source": [
    "\"\"\"\n",
    "It is not always possible to generate efficient results for\n",
    "a integer programming problem using classicial computing. Hence,\n",
    "the efficient frontier will not be generated, as even the code given\n",
    "below to generate a portfolio with a risk value less than 1% takes\n",
    "more than 1 hour to run. Thus, it is computationally not possible\n",
    "to generate an efficient frontier for a risk value of 1% using CPLEX\n",
    "\"\"\""
   ]
  },
  {
   "cell_type": "code",
   "execution_count": 64,
   "metadata": {},
   "outputs": [],
   "source": [
    "# Variables to solve for\n",
    "x = cp.Variable(n_assets, integer=True)  # Units of each asset to purchase\n",
    "\n",
    "\n",
    "# Creating the weights\n",
    "w = x/S\n",
    "\n",
    "#Adding the sum constraint\n",
    "total_sum_constraint = [cp.sum(x)==S]\n",
    "\n",
    "# Objective function to maximize total expected return\n",
    "objective = cp.Maximize(expected_returns @ w)\n",
    "\n",
    "non_negativity_constraints = [x >= 0]  # Ensure x is non-negative \n",
    "\n",
    "#Risk Constraints\n",
    "risk_constraint = [cp.quad_form(w, cov_matrix) <=  0.01**2]  # Risk constraint\n",
    "\n",
    "# Problem definition\n",
    "problem = cp.Problem(objective, total_sum_constraint+ non_negativity_constraints+risk_constraint)\n",
    "\n",
    "# Solving the problem\n",
    "problem.solve(solver=cp.CPLEX)\n",
    "\n",
    "\n",
    "\n",
    "# Results\n",
    "print(\"Status:\", problem.status)\n",
    "print(\"Maximum Expected Return:\", problem.value)\n",
    "print(\"Units of each asset to purchase:\", x.value)\n",
    "\n",
    "\n",
    "# Convert x.value to numpy arrays for easy manipulation\n",
    "x_optimized = np.array(x.value)\n",
    "w_optimized = np.array(x_optimized/S)\n",
    "\n",
    "# Risk constraint\n",
    "risk_value_1 = np.sqrt(np.dot(np.dot(w_optimized.T, cov_matrix), w_optimized))\n",
    "print(f\"Risk Value: {risk_value_1}\")"
   ]
  }
 ],
 "metadata": {
  "kernelspec": {
   "display_name": "venv",
   "language": "python",
   "name": "python3"
  },
  "language_info": {
   "codemirror_mode": {
    "name": "ipython",
    "version": 3
   },
   "file_extension": ".py",
   "mimetype": "text/x-python",
   "name": "python",
   "nbconvert_exporter": "python",
   "pygments_lexer": "ipython3",
   "version": "3.9.10"
  }
 },
 "nbformat": 4,
 "nbformat_minor": 2
}
