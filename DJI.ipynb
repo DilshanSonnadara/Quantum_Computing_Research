{
 "cells": [
  {
   "cell_type": "markdown",
   "metadata": {},
   "source": [
    "Create the DataFrame of DJI Values"
   ]
  },
  {
   "cell_type": "code",
   "execution_count": 1,
   "metadata": {},
   "outputs": [],
   "source": [
    "import pandas as pd\n",
    "\n",
    "# Create a DataFrame with the provided Dow Jones index values\n",
    "data = {\n",
    "    'Year': [2017, 2018, 2019, 2020, 2021, 2022, 2023],\n",
    "    'Index Value': [25.08, -5.63, 22.34, 7.25, 18.73, -8.78, 13.7]\n",
    "}\n",
    "df = pd.DataFrame(data)\n"
   ]
  },
  {
   "cell_type": "markdown",
   "metadata": {},
   "source": [
    "Find the Daily DJI Values from 2017-2019"
   ]
  },
  {
   "cell_type": "code",
   "execution_count": 2,
   "metadata": {},
   "outputs": [],
   "source": [
    "# Calculate the average of the years 2017, 2018, 2019\n",
    "average_2017_2019 = df[df['Year'].isin([2017, 2018, 2019])]['Index Value'].mean()\n",
    "\n",
    "# Divide the average by 252\n",
    "result_2017_2019 = average_2017_2019 / 252"
   ]
  },
  {
   "cell_type": "markdown",
   "metadata": {},
   "source": [
    "Find the DJI Values from 2020-2023"
   ]
  },
  {
   "cell_type": "code",
   "execution_count": 3,
   "metadata": {},
   "outputs": [],
   "source": [
    "# Calculate the average of the years 2020, 2021, 2022, 2023\n",
    "average_2020_2023 = df[df['Year'].isin([2020, 2021, 2022, 2023])]['Index Value'].mean()\n",
    "\n",
    "# Divide the average by 252\n",
    "result_2020_2023 = average_2020_2023 / 252"
   ]
  },
  {
   "cell_type": "markdown",
   "metadata": {},
   "source": [
    "Print the Values"
   ]
  },
  {
   "cell_type": "code",
   "execution_count": 4,
   "metadata": {},
   "outputs": [
    {
     "name": "stdout",
     "output_type": "stream",
     "text": [
      "Average of 2017, 2018, 2019 divided by 255: 0.05527777777777778\n",
      "Average of 2020, 2021, 2022, 2023 divided by 255: 0.030654761904761907\n"
     ]
    }
   ],
   "source": [
    "# Print results\n",
    "print(\"Average of 2017, 2018, 2019 divided by 255:\", result_2017_2019)\n",
    "print(\"Average of 2020, 2021, 2022, 2023 divided by 255:\", result_2020_2023)"
   ]
  }
 ],
 "metadata": {
  "kernelspec": {
   "display_name": "venv",
   "language": "python",
   "name": "python3"
  },
  "language_info": {
   "codemirror_mode": {
    "name": "ipython",
    "version": 3
   },
   "file_extension": ".py",
   "mimetype": "text/x-python",
   "name": "python",
   "nbconvert_exporter": "python",
   "pygments_lexer": "ipython3",
   "version": "3.9.10"
  }
 },
 "nbformat": 4,
 "nbformat_minor": 2
}
