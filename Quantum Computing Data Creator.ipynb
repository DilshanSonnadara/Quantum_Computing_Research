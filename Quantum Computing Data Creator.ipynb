{
 "cells": [
  {
   "cell_type": "markdown",
   "id": "3efe1728",
   "metadata": {},
   "source": [
    "Importing the Libraries"
   ]
  },
  {
   "cell_type": "code",
   "execution_count": 14,
   "id": "0c4203d0",
   "metadata": {},
   "outputs": [],
   "source": [
    "import yfinance as yf\n",
    "import pandas as pd"
   ]
  },
  {
   "cell_type": "markdown",
   "id": "019deef2",
   "metadata": {},
   "source": [
    "Choosing the assets"
   ]
  },
  {
   "cell_type": "code",
   "execution_count": 15,
   "id": "62f8beac-bc2e-4e5c-9a17-9b1ad4486d6a",
   "metadata": {},
   "outputs": [],
   "source": [
    "tickerSymbols = [\n",
    "    'AAPL', 'MSFT', 'GOOGL', 'AMZN', 'BRK-A', 'JPM',\n",
    "    'JNJ', 'V', 'PG', 'TSLA', 'UNH', 'INTC', 'VZ', 'HD',\n",
    "    'DIS', 'KO', 'MRK', 'PFE', 'WMT', 'BAC', 'CSCO', 'PEP',\n",
    "    'NFLX', 'XOM', 'COST', 'CVX', 'LMT', 'MCD', 'BA',\n",
    "    'ORCL', 'ABBV', 'ACN', 'ADBE', 'AIG', 'ALL',\n",
    "    'MO', 'AMGN', 'AXP', 'AFL', 'A', 'APD', 'AKAM', 'ALK',\n",
    "    'ALB', 'ARE', 'ALGN', 'ALLE',\n",
    "    'LNT', 'ALL', 'GOOG', 'AMT', 'AME', 'AMGN',\n",
    "    'APH', 'ADI', 'ANSS', 'AON', 'APA', 'AIV',\n",
    "    'AAPL', 'AMAT', 'APTV', 'ADM', 'ANET', 'AJG', 'AIZ',\n",
    "    'T', 'ATO', 'ADSK', 'ADP', 'AZO', 'AVB', 'AVY', 'BKR', 'BAC', 'BK', 'BAX', 'BDX', 'BBY', 'BIO', 'BIIB',\n",
    "    'BLK', 'BA', 'BKNG', 'BWA', 'BXP', 'BSX', 'BMY', 'AVGO',\n",
    "    'BR', 'BF-B', 'CHRW', 'CDNS', 'CPB', 'COF', 'CAH',\n",
    "    'KMX', 'CCL', 'CAT', 'CBOE', 'CBRE', 'CDW', 'CE', 'CNC',\n",
    "    'CNP', 'CF', 'SCHW', 'CHTR', 'CVX', 'CMG',\n",
    "    'CB', 'CHD', 'CI', 'CINF', 'CTAS', 'CSCO', 'C', 'CFG',\n",
    "    'CLX', 'CME', 'CMS', 'KO', 'CTSH', 'CL', 'CMCSA',\n",
    "    'CMA', 'CAG', 'COP', 'ED', 'STZ', 'COO', 'CPRT',\n",
    "    'GLW', 'CTVA', 'COST', 'COTY', 'CCI', 'CSX', 'CMI', 'CVS',\n",
    "    'DHI', 'DHR', 'DRI', 'DVA', 'DE', 'DAL', 'XRAY', 'DVN',\n",
    "    'DXCM', 'FANG', 'DLR', 'DFS',\n",
    "    'DG', 'DLTR']"
   ]
  },
  {
   "cell_type": "markdown",
   "id": "8c59724a",
   "metadata": {},
   "source": [
    "Downloading the Data"
   ]
  },
  {
   "cell_type": "code",
   "execution_count": 16,
   "id": "3e25eaad-0b53-43e8-a3b7-b7c433ef170d",
   "metadata": {},
   "outputs": [
    {
     "name": "stderr",
     "output_type": "stream",
     "text": [
      "[*********************100%%**********************]  145 of 145 completed\n"
     ]
    }
   ],
   "source": [
    "# Download stock data\n",
    "data = yf.download(tickerSymbols, start='2000-01-01', end='2024-01-01')['Adj Close']"
   ]
  },
  {
   "cell_type": "markdown",
   "id": "05284048",
   "metadata": {},
   "source": [
    "Cleaning the Data"
   ]
  },
  {
   "cell_type": "code",
   "execution_count": 17,
   "id": "17235f9f-2908-47ef-b1f6-6b444c2ccd26",
   "metadata": {},
   "outputs": [
    {
     "name": "stderr",
     "output_type": "stream",
     "text": [
      "C:\\Users\\Acer\\AppData\\Local\\Temp\\ipykernel_5860\\842395867.py:1: FutureWarning: DataFrame.fillna with 'method' is deprecated and will raise in a future version. Use obj.ffill() or obj.bfill() instead.\n",
      "  data.fillna(method='ffill',axis=0,inplace=True)\n",
      "C:\\Users\\Acer\\AppData\\Local\\Temp\\ipykernel_5860\\842395867.py:2: FutureWarning: DataFrame.fillna with 'method' is deprecated and will raise in a future version. Use obj.ffill() or obj.bfill() instead.\n",
      "  data.fillna(method='bfill',axis=0,inplace=True)\n"
     ]
    }
   ],
   "source": [
    "data.fillna(method='ffill',axis=0,inplace=True)\n",
    "data.fillna(method='bfill',axis=0,inplace=True)"
   ]
  },
  {
   "cell_type": "markdown",
   "id": "65dd7b6a",
   "metadata": {},
   "source": [
    "Index all the share prices to a base of 1"
   ]
  },
  {
   "cell_type": "code",
   "execution_count": 18,
   "id": "ff9c5d02",
   "metadata": {},
   "outputs": [],
   "source": [
    "indexed_data = data.div(data.iloc[0]).mul(1)"
   ]
  },
  {
   "cell_type": "markdown",
   "id": "79e8e2ca",
   "metadata": {},
   "source": [
    "Calculating the profits"
   ]
  },
  {
   "cell_type": "code",
   "execution_count": 7,
   "id": "4564ff18",
   "metadata": {},
   "outputs": [],
   "source": [
    "daily_profits = indexed_data.diff()"
   ]
  },
  {
   "cell_type": "markdown",
   "id": "d42a20cb",
   "metadata": {},
   "source": [
    "Deleting the first row"
   ]
  },
  {
   "cell_type": "code",
   "execution_count": 8,
   "id": "2abd70d4",
   "metadata": {},
   "outputs": [],
   "source": [
    "Cleaned_Data = daily_profits.drop(index='2000-01-03')"
   ]
  },
  {
   "cell_type": "markdown",
   "id": "fa0753ed",
   "metadata": {},
   "source": [
    "Exporting the data"
   ]
  },
  {
   "cell_type": "code",
   "execution_count": 9,
   "id": "6c7448bb",
   "metadata": {},
   "outputs": [],
   "source": [
    "Cleaned_Data.to_excel(\"Cleaned_Data_Index_1.xlsx\")"
   ]
  },
  {
   "cell_type": "markdown",
   "id": "205cd639",
   "metadata": {},
   "source": [
    "Getting the monthly returns"
   ]
  },
  {
   "cell_type": "code",
   "execution_count": 35,
   "id": "a3bc77cb",
   "metadata": {},
   "outputs": [
    {
     "name": "stderr",
     "output_type": "stream",
     "text": [
      "C:\\Users\\Acer\\AppData\\Local\\Temp\\ipykernel_5860\\3405417352.py:2: FutureWarning: 'M' is deprecated and will be removed in a future version, please use 'ME' instead.\n",
      "  monthly_prices = data.resample('M').last()\n"
     ]
    }
   ],
   "source": [
    "# Resample the data to get monthly prices (using the last trading day of each month)\n",
    "monthly_prices = data.resample('M').last()\n",
    "\n",
    "#Index all share prices to a base of 1\n",
    "indexed_monthly = monthly_prices.div(data.iloc[0]).mul(1)\n",
    "\n",
    "#Calculate the profits\n",
    "monthly_profits = indexed_monthly.diff()\n",
    "\n",
    "#Deleting the first row\n",
    "Cleaned_Monthly = monthly_profits.drop(index='2000-01-31')\n",
    "\n",
    "#Exporting the data\n",
    "Cleaned_Monthly.to_excel(\"Cleaned_Monthly_Index_1.xlsx\")"
   ]
  }
 ],
 "metadata": {
  "kernelspec": {
   "display_name": "Python 3 (ipykernel)",
   "language": "python",
   "name": "python3"
  },
  "language_info": {
   "codemirror_mode": {
    "name": "ipython",
    "version": 3
   },
   "file_extension": ".py",
   "mimetype": "text/x-python",
   "name": "python",
   "nbconvert_exporter": "python",
   "pygments_lexer": "ipython3",
   "version": "3.9.10"
  }
 },
 "nbformat": 4,
 "nbformat_minor": 5
}
