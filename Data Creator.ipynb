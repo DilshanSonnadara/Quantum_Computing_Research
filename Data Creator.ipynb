{
 "cells": [
  {
   "cell_type": "markdown",
   "id": "4a365d9f",
   "metadata": {},
   "source": [
    "Importing the necessary libraries"
   ]
  },
  {
   "cell_type": "code",
   "execution_count": 28,
   "id": "fcf0f3f4-6289-4221-8f19-ffd7b5ae35ac",
   "metadata": {},
   "outputs": [],
   "source": [
    "import yfinance as yf\n",
    "import pandas as pd"
   ]
  },
  {
   "cell_type": "markdown",
   "id": "32a7d8dc",
   "metadata": {},
   "source": [
    "Find the assets to download data from"
   ]
  },
  {
   "cell_type": "code",
   "execution_count": 29,
   "id": "62f8beac-bc2e-4e5c-9a17-9b1ad4486d6a",
   "metadata": {},
   "outputs": [],
   "source": [
    "tickerSymbols = [\n",
    "    'AAPL', 'MSFT', 'GOOGL', 'AMZN', 'BRK-A', 'JPM',\n",
    "    'JNJ', 'V', 'PG', 'TSLA', 'UNH', 'INTC', 'VZ', 'HD',\n",
    "    'DIS', 'KO', 'MRK', 'PFE', 'WMT', 'BAC', 'CSCO', 'PEP',\n",
    "    'NFLX', 'XOM', 'COST', 'CVX', 'LMT', 'MCD', 'BA',\n",
    "    'ORCL', 'ABBV', 'ACN', 'ADBE', 'AIG', 'ALL',\n",
    "    'MO', 'AMGN', 'AXP', 'AFL', 'A', 'APD', 'AKAM', 'ALK',\n",
    "    'ALB', 'ARE', 'ALGN', 'ALLE',\n",
    "    'LNT', 'ALL', 'GOOG', 'AMT', 'AME', 'AMGN',\n",
    "    'APH', 'ADI', 'ANSS', 'AON', 'APA', 'AIV',\n",
    "    'AAPL', 'AMAT', 'APTV', 'ADM', 'ANET', 'AJG', 'AIZ',\n",
    "    'T', 'ATO', 'ADSK', 'ADP', 'AZO', 'AVB', 'AVY', 'BKR', 'BAC', 'BK', 'BAX', 'BDX', 'BBY', 'BIO', 'BIIB',\n",
    "    'BLK', 'BA', 'BKNG', 'BWA', 'BXP', 'BSX', 'BMY', 'AVGO',\n",
    "    'BR', 'BF-B', 'CHRW', 'CDNS', 'CPB', 'COF', 'CAH',\n",
    "    'KMX', 'CCL', 'CAT', 'CBOE', 'CBRE', 'CDW', 'CE', 'CNC',\n",
    "    'CNP', 'CF', 'SCHW', 'CHTR', 'CVX', 'CMG',\n",
    "    'CB', 'CHD', 'CI', 'CINF', 'CTAS', 'CSCO', 'C', 'CFG',\n",
    "    'CLX', 'CME', 'CMS', 'KO', 'CTSH', 'CL', 'CMCSA',\n",
    "    'CMA', 'CAG', 'COP', 'ED', 'STZ', 'COO', 'CPRT',\n",
    "    'GLW', 'CTVA', 'COST', 'COTY', 'CCI', 'CSX', 'CMI', 'CVS',\n",
    "    'DHI', 'DHR', 'DRI', 'DVA', 'DE', 'DAL', 'XRAY', 'DVN',\n",
    "    'DXCM', 'FANG', 'DLR', 'DFS',\n",
    "    'DG', 'DLTR']"
   ]
  },
  {
   "cell_type": "code",
   "execution_count": 30,
   "id": "3e25eaad-0b53-43e8-a3b7-b7c433ef170d",
   "metadata": {},
   "outputs": [
    {
     "name": "stderr",
     "output_type": "stream",
     "text": [
      "[*********************100%%**********************]  145 of 145 completed\n"
     ]
    }
   ],
   "source": [
    "# Download stock data\n",
    "data = yf.download(tickerSymbols, start='2000-01-01', end='2024-01-01')['Adj Close']"
   ]
  },
  {
   "cell_type": "markdown",
   "id": "87fb1481",
   "metadata": {},
   "source": [
    "Finding the returns"
   ]
  },
  {
   "cell_type": "code",
   "execution_count": 32,
   "id": "cd40230b-a206-4d60-9456-2374f8e132ef",
   "metadata": {},
   "outputs": [],
   "source": [
    "# Calculate daily returns\n",
    "daily_returns = data.pct_change()"
   ]
  },
  {
   "cell_type": "markdown",
   "id": "ce401dc6",
   "metadata": {},
   "source": [
    "Imputing the missing values"
   ]
  },
  {
   "cell_type": "code",
   "execution_count": 33,
   "id": "c0fee527-e1d9-43ee-8247-73f1744ff106",
   "metadata": {},
   "outputs": [
    {
     "name": "stderr",
     "output_type": "stream",
     "text": [
      "C:\\Users\\Acer\\AppData\\Local\\Temp\\ipykernel_7692\\2848652347.py:1: FutureWarning: DataFrame.fillna with 'method' is deprecated and will raise in a future version. Use obj.ffill() or obj.bfill() instead.\n",
      "  daily_returns.fillna(method='ffill',axis=0,inplace=True)\n",
      "C:\\Users\\Acer\\AppData\\Local\\Temp\\ipykernel_7692\\2848652347.py:2: FutureWarning: DataFrame.fillna with 'method' is deprecated and will raise in a future version. Use obj.ffill() or obj.bfill() instead.\n",
      "  daily_returns.fillna(method='bfill',axis=0,inplace=True)\n"
     ]
    }
   ],
   "source": [
    "daily_returns.fillna(method='ffill',axis=0,inplace=True)\n",
    "daily_returns.fillna(method='bfill',axis=0,inplace=True)"
   ]
  },
  {
   "cell_type": "markdown",
   "id": "405858ff",
   "metadata": {},
   "source": [
    "Saving the data file"
   ]
  },
  {
   "cell_type": "code",
   "execution_count": 34,
   "id": "78414337",
   "metadata": {},
   "outputs": [],
   "source": [
    "daily_returns.to_excel(\"Daily_Returns.xlsx\")"
   ]
  }
 ],
 "metadata": {
  "kernelspec": {
   "display_name": "Python 3 (ipykernel)",
   "language": "python",
   "name": "python3"
  },
  "language_info": {
   "codemirror_mode": {
    "name": "ipython",
    "version": 3
   },
   "file_extension": ".py",
   "mimetype": "text/x-python",
   "name": "python",
   "nbconvert_exporter": "python",
   "pygments_lexer": "ipython3",
   "version": "3.9.10"
  }
 },
 "nbformat": 4,
 "nbformat_minor": 5
}
