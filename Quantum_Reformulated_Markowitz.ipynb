{
 "cells": [
  {
   "cell_type": "markdown",
   "metadata": {},
   "source": [
    "# Reforumlated Markowitz Model - Optimization Codes through Quantum Computing"
   ]
  },
  {
   "cell_type": "markdown",
   "metadata": {},
   "source": [
    "Import the necessary libraries"
   ]
  },
  {
   "cell_type": "code",
   "execution_count": 61,
   "metadata": {},
   "outputs": [],
   "source": [
    "import numpy as np\n",
    "import pandas as pd\n",
    "from dimod import ConstrainedQuadraticModel, Integer, Binary\n",
    "import time\n",
    "from matplotlib import pyplot as plt"
   ]
  },
  {
   "cell_type": "markdown",
   "metadata": {},
   "source": [
    "Importing the Data"
   ]
  },
  {
   "cell_type": "code",
   "execution_count": 3,
   "metadata": {},
   "outputs": [],
   "source": [
    "df = pd.read_excel(\"Daily_Returns.xlsx\")"
   ]
  },
  {
   "cell_type": "markdown",
   "metadata": {},
   "source": [
    "Changing the Date to the index"
   ]
  },
  {
   "cell_type": "code",
   "execution_count": 4,
   "metadata": {},
   "outputs": [],
   "source": [
    "# Convert the 'date' column to datetime format \n",
    "df['Date'] = pd.to_datetime(df['Date'])\n",
    "\n",
    "# Set the 'date' column as the index\n",
    "df.set_index('Date', inplace=True)"
   ]
  },
  {
   "cell_type": "markdown",
   "metadata": {},
   "source": [
    "Calculating the expected returns and the variance covariance matrix"
   ]
  },
  {
   "cell_type": "code",
   "execution_count": 5,
   "metadata": {},
   "outputs": [],
   "source": [
    "# Calculate expected returns for each asset\n",
    "expected_returns = np.mean(df,axis=0)*252\n",
    "\n",
    "# Calculate the variance-covariance matrix\n",
    "cov_matrix = df.cov()\n",
    "\n",
    "\n",
    "#Converting the expected returns to a numpy array\n",
    "expected_returns = expected_returns.values\n",
    "\n",
    "#The number of assets\n",
    "n_assets = len(expected_returns)"
   ]
  },
  {
   "cell_type": "markdown",
   "metadata": {},
   "source": [
    "Setting the values of the constraints"
   ]
  },
  {
   "cell_type": "code",
   "execution_count": 6,
   "metadata": {},
   "outputs": [],
   "source": [
    "# Maximum acceptable risk (R): The total risk that the portfolio can assume, based on variance-covariance matrix\n",
    "R = 0.1\n",
    "\n",
    "# Maximum units of each asset that can be purchased (D)\n",
    "D = 5\n",
    "\n",
    "# Maximum number of assets in the portfolio (K): The maximum number of different assets that can be included in the portfolio\n",
    "K = 15\n",
    "\n",
    "# The number of shares the investor would like to purchase\n",
    "S = 20"
   ]
  },
  {
   "cell_type": "markdown",
   "metadata": {},
   "source": [
    "Creating the Decision Variables"
   ]
  },
  {
   "cell_type": "code",
   "execution_count": 7,
   "metadata": {},
   "outputs": [],
   "source": [
    "y = [Binary(f\"y_{i}\") for i in range(n_assets)] #To represent y"
   ]
  },
  {
   "cell_type": "code",
   "execution_count": 8,
   "metadata": {},
   "outputs": [],
   "source": [
    "X = [Integer(f\"x_{i}\") for i in range(n_assets)] #To represent x"
   ]
  },
  {
   "cell_type": "markdown",
   "metadata": {},
   "source": [
    "Finding the weights"
   ]
  },
  {
   "cell_type": "code",
   "execution_count": 9,
   "metadata": {},
   "outputs": [],
   "source": [
    "W = [x/S for x in X] "
   ]
  },
  {
   "cell_type": "markdown",
   "metadata": {},
   "source": [
    "Create the CQM Object"
   ]
  },
  {
   "cell_type": "code",
   "execution_count": 10,
   "metadata": {},
   "outputs": [],
   "source": [
    "cqm = ConstrainedQuadraticModel()"
   ]
  },
  {
   "cell_type": "markdown",
   "metadata": {},
   "source": [
    "Creating the Objective Function"
   ]
  },
  {
   "cell_type": "code",
   "execution_count": 11,
   "metadata": {},
   "outputs": [],
   "source": [
    "H_obj = 0\n",
    "for i in range(n_assets):\n",
    "    H_obj -= expected_returns[i] * W[i]"
   ]
  },
  {
   "cell_type": "markdown",
   "metadata": {},
   "source": [
    "Creating the risk constraint"
   ]
  },
  {
   "cell_type": "code",
   "execution_count": 12,
   "metadata": {},
   "outputs": [],
   "source": [
    "# Convert the Variance Covariance matrix to a NumPy array\n",
    "cov_matrix_np = cov_matrix.to_numpy()\n",
    "\n",
    "# Convert X to a NumPy array\n",
    "W_numeric = np.array(W)  \n",
    "\n",
    "# Calculate the total variance\n",
    "total_variance = np.dot(W_numeric.T, np.dot(cov_matrix_np, W_numeric))"
   ]
  },
  {
   "cell_type": "markdown",
   "metadata": {},
   "source": [
    "Setting the Objective Function"
   ]
  },
  {
   "cell_type": "code",
   "execution_count": 13,
   "metadata": {},
   "outputs": [],
   "source": [
    "cqm.set_objective(H_obj)"
   ]
  },
  {
   "cell_type": "markdown",
   "metadata": {},
   "source": [
    "Setting the Risk Constraint"
   ]
  },
  {
   "cell_type": "code",
   "execution_count": 14,
   "metadata": {},
   "outputs": [
    {
     "data": {
      "text/plain": [
       "'Variance'"
      ]
     },
     "execution_count": 14,
     "metadata": {},
     "output_type": "execute_result"
    }
   ],
   "source": [
    "cqm.add_constraint_from_model(total_variance, '<=', R**2, \"Variance\", weight=1)"
   ]
  },
  {
   "cell_type": "markdown",
   "metadata": {},
   "source": [
    "Adding the Linking Constraints"
   ]
  },
  {
   "cell_type": "code",
   "execution_count": 15,
   "metadata": {},
   "outputs": [],
   "source": [
    "# Diversification Constraints\n",
    "for i in range(n_assets):\n",
    "    cqm.add_constraint_from_model(X[i] - D*y[i], '<=', 0, label=f\"Linking_{i}\", weight=1)"
   ]
  },
  {
   "cell_type": "markdown",
   "metadata": {},
   "source": [
    "Adding the cardinality constraint"
   ]
  },
  {
   "cell_type": "code",
   "execution_count": 16,
   "metadata": {},
   "outputs": [
    {
     "data": {
      "text/plain": [
       "'Cardinality'"
      ]
     },
     "execution_count": 16,
     "metadata": {},
     "output_type": "execute_result"
    }
   ],
   "source": [
    "cqm.add_constraint_from_model(sum(y), '<=', K, label=\"Cardinality\", weight=1)"
   ]
  },
  {
   "cell_type": "markdown",
   "metadata": {},
   "source": [
    "Adding the constraint on the number of shares"
   ]
  },
  {
   "cell_type": "code",
   "execution_count": 17,
   "metadata": {},
   "outputs": [
    {
     "data": {
      "text/plain": [
       "'Total Shares'"
      ]
     },
     "execution_count": 17,
     "metadata": {},
     "output_type": "execute_result"
    }
   ],
   "source": [
    "cqm.add_constraint_from_model(sum(X), '==', S, label=\"Total Shares\", weight=1)"
   ]
  },
  {
   "cell_type": "markdown",
   "metadata": {},
   "source": [
    "Solving the optimization problem"
   ]
  },
  {
   "cell_type": "code",
   "execution_count": 18,
   "metadata": {},
   "outputs": [],
   "source": [
    "from dwave.system import LeapHybridCQMSampler\n",
    "sampler = LeapHybridCQMSampler(token=\"DEV-df309da97162b976954c423a5c0df694bc7b7bdf\")  "
   ]
  },
  {
   "cell_type": "code",
   "execution_count": 19,
   "metadata": {},
   "outputs": [],
   "source": [
    "#Solve the problem\n",
    "sampleset = sampler.sample_cqm(cqm)"
   ]
  },
  {
   "cell_type": "code",
   "execution_count": 20,
   "metadata": {},
   "outputs": [
    {
     "name": "stdout",
     "output_type": "stream",
     "text": [
      "Sample(sample={'x_0': 0.0, 'x_1': 5.0, 'x_10': 0.0, 'x_100': 0.0, 'x_101': 0.0, 'x_102': 0.0, 'x_103': 0.0, 'x_104': 0.0, 'x_105': 0.0, 'x_106': 0.0, 'x_107': 0.0, 'x_108': 0.0, 'x_109': 0.0, 'x_11': 0.0, 'x_110': 0.0, 'x_111': 0.0, 'x_112': 0.0, 'x_113': 0.0, 'x_114': 0.0, 'x_115': 0.0, 'x_116': 0.0, 'x_117': 0.0, 'x_118': 0.0, 'x_119': 0.0, 'x_12': 0.0, 'x_120': 0.0, 'x_121': 0.0, 'x_122': 0.0, 'x_123': 0.0, 'x_124': 0.0, 'x_125': 0.0, 'x_126': 0.0, 'x_127': 0.0, 'x_128': 0.0, 'x_129': 0.0, 'x_13': 0.0, 'x_130': 0.0, 'x_131': 0.0, 'x_132': 0.0, 'x_133': 0.0, 'x_134': 0.0, 'x_135': 0.0, 'x_136': 0.0, 'x_137': 0.0, 'x_138': 0.0, 'x_139': 0.0, 'x_14': 0.0, 'x_140': 0.0, 'x_141': 0.0, 'x_142': 0.0, 'x_143': 0.0, 'x_144': 0.0, 'x_15': 0.0, 'x_16': 0.0, 'x_17': 0.0, 'x_18': 0.0, 'x_19': 0.0, 'x_2': 0.0, 'x_20': 0.0, 'x_21': 0.0, 'x_22': 0.0, 'x_23': 0.0, 'x_24': 0.0, 'x_25': 0.0, 'x_26': 0.0, 'x_27': 0.0, 'x_28': 0.0, 'x_29': 0.0, 'x_3': 0.0, 'x_30': 0.0, 'x_31': 0.0, 'x_32': 5.0, 'x_33': 0.0, 'x_34': 0.0, 'x_35': 0.0, 'x_36': 0.0, 'x_37': 0.0, 'x_38': 0.0, 'x_39': 0.0, 'x_4': 0.0, 'x_40': 0.0, 'x_41': 0.0, 'x_42': 0.0, 'x_43': 0.0, 'x_44': 0.0, 'x_45': 5.0, 'x_46': 0.0, 'x_47': 0.0, 'x_48': 0.0, 'x_49': 0.0, 'x_5': 0.0, 'x_50': 0.0, 'x_51': 0.0, 'x_52': 0.0, 'x_53': 0.0, 'x_54': 0.0, 'x_55': 0.0, 'x_56': 0.0, 'x_57': 0.0, 'x_58': 0.0, 'x_59': 0.0, 'x_6': 0.0, 'x_60': 0.0, 'x_61': 0.0, 'x_62': 0.0, 'x_63': 0.0, 'x_64': 0.0, 'x_65': 0.0, 'x_66': 0.0, 'x_67': 0.0, 'x_68': 0.0, 'x_69': 0.0, 'x_7': 0.0, 'x_70': 0.0, 'x_71': 5.0, 'x_72': 0.0, 'x_73': 0.0, 'x_74': 0.0, 'x_75': 0.0, 'x_76': 0.0, 'x_77': 0.0, 'x_78': 0.0, 'x_79': 0.0, 'x_8': 0.0, 'x_80': 0.0, 'x_81': 0.0, 'x_82': 0.0, 'x_83': 0.0, 'x_84': 0.0, 'x_85': 0.0, 'x_86': 0.0, 'x_87': 0.0, 'x_88': 0.0, 'x_89': 0.0, 'x_9': 0.0, 'x_90': 0.0, 'x_91': 0.0, 'x_92': 0.0, 'x_93': 0.0, 'x_94': 0.0, 'x_95': 0.0, 'x_96': 0.0, 'x_97': 0.0, 'x_98': 0.0, 'x_99': 0.0, 'y_0': 0.0, 'y_1': 1.0, 'y_10': 0.0, 'y_100': 0.0, 'y_101': 0.0, 'y_102': 0.0, 'y_103': 0.0, 'y_104': 0.0, 'y_105': 0.0, 'y_106': 0.0, 'y_107': 0.0, 'y_108': 0.0, 'y_109': 0.0, 'y_11': 0.0, 'y_110': 0.0, 'y_111': 0.0, 'y_112': 0.0, 'y_113': 0.0, 'y_114': 0.0, 'y_115': 0.0, 'y_116': 0.0, 'y_117': 0.0, 'y_118': 0.0, 'y_119': 0.0, 'y_12': 0.0, 'y_120': 0.0, 'y_121': 0.0, 'y_122': 0.0, 'y_123': 0.0, 'y_124': 0.0, 'y_125': 0.0, 'y_126': 0.0, 'y_127': 0.0, 'y_128': 0.0, 'y_129': 0.0, 'y_13': 0.0, 'y_130': 0.0, 'y_131': 0.0, 'y_132': 0.0, 'y_133': 0.0, 'y_134': 0.0, 'y_135': 0.0, 'y_136': 0.0, 'y_137': 0.0, 'y_138': 0.0, 'y_139': 0.0, 'y_14': 0.0, 'y_140': 0.0, 'y_141': 0.0, 'y_142': 0.0, 'y_143': 0.0, 'y_144': 0.0, 'y_15': 0.0, 'y_16': 0.0, 'y_17': 0.0, 'y_18': 0.0, 'y_19': 0.0, 'y_2': 0.0, 'y_20': 0.0, 'y_21': 0.0, 'y_22': 0.0, 'y_23': 0.0, 'y_24': 0.0, 'y_25': 0.0, 'y_26': 0.0, 'y_27': 0.0, 'y_28': 0.0, 'y_29': 0.0, 'y_3': 0.0, 'y_30': 0.0, 'y_31': 0.0, 'y_32': 1.0, 'y_33': 0.0, 'y_34': 0.0, 'y_35': 0.0, 'y_36': 0.0, 'y_37': 0.0, 'y_38': 0.0, 'y_39': 0.0, 'y_4': 0.0, 'y_40': 0.0, 'y_41': 0.0, 'y_42': 0.0, 'y_43': 0.0, 'y_44': 0.0, 'y_45': 1.0, 'y_46': 0.0, 'y_47': 0.0, 'y_48': 0.0, 'y_49': 0.0, 'y_5': 0.0, 'y_50': 0.0, 'y_51': 0.0, 'y_52': 0.0, 'y_53': 0.0, 'y_54': 0.0, 'y_55': 0.0, 'y_56': 0.0, 'y_57': 0.0, 'y_58': 0.0, 'y_59': 0.0, 'y_6': 0.0, 'y_60': 0.0, 'y_61': 0.0, 'y_62': 0.0, 'y_63': 0.0, 'y_64': 0.0, 'y_65': 0.0, 'y_66': 0.0, 'y_67': 0.0, 'y_68': 0.0, 'y_69': 0.0, 'y_7': 0.0, 'y_70': 0.0, 'y_71': 1.0, 'y_72': 0.0, 'y_73': 0.0, 'y_74': 0.0, 'y_75': 0.0, 'y_76': 0.0, 'y_77': 0.0, 'y_78': 0.0, 'y_79': 0.0, 'y_8': 0.0, 'y_80': 0.0, 'y_81': 0.0, 'y_82': 0.0, 'y_83': 0.0, 'y_84': 0.0, 'y_85': 0.0, 'y_86': 0.0, 'y_87': 0.0, 'y_88': 0.0, 'y_89': 0.0, 'y_9': 0.0, 'y_90': 0.0, 'y_91': 0.0, 'y_92': 0.0, 'y_93': 0.0, 'y_94': 0.0, 'y_95': 0.0, 'y_96': 0.0, 'y_97': 0.0, 'y_98': 0.0, 'y_99': 0.0}, energy=-0.20186450006434886, num_occurrences=1, is_satisfied=array([ True,  True,  True,  True,  True,  True,  True,  True,  True,\n",
      "        True,  True,  True,  True,  True,  True,  True,  True,  True,\n",
      "        True,  True,  True,  True,  True,  True,  True,  True,  True,\n",
      "        True,  True,  True,  True,  True,  True,  True,  True,  True,\n",
      "        True,  True,  True,  True,  True,  True,  True,  True,  True,\n",
      "        True,  True,  True,  True,  True,  True,  True,  True,  True,\n",
      "        True,  True,  True,  True,  True,  True,  True,  True,  True,\n",
      "        True,  True,  True,  True,  True,  True,  True,  True,  True,\n",
      "        True,  True,  True,  True,  True,  True,  True,  True,  True,\n",
      "        True,  True,  True,  True,  True,  True,  True,  True,  True,\n",
      "        True,  True,  True,  True,  True,  True,  True,  True,  True,\n",
      "        True,  True,  True,  True,  True,  True,  True,  True,  True,\n",
      "        True,  True,  True,  True,  True,  True,  True,  True,  True,\n",
      "        True,  True,  True,  True,  True,  True,  True,  True,  True,\n",
      "        True,  True,  True,  True,  True,  True,  True,  True,  True,\n",
      "        True,  True,  True,  True,  True,  True,  True,  True,  True,\n",
      "        True,  True,  True,  True]), is_feasible=True)\n"
     ]
    }
   ],
   "source": [
    "print(sampleset.first) "
   ]
  },
  {
   "cell_type": "markdown",
   "metadata": {},
   "source": [
    "Checking for the violation of constraints"
   ]
  },
  {
   "cell_type": "code",
   "execution_count": 21,
   "metadata": {},
   "outputs": [],
   "source": [
    "for label, violation in cqm.iter_violations(sampleset.first[0], skip_satisfied=True):\n",
    "    print(label, violation)"
   ]
  },
  {
   "cell_type": "markdown",
   "metadata": {},
   "source": [
    "Recreating the original decision variables"
   ]
  },
  {
   "cell_type": "code",
   "execution_count": 22,
   "metadata": {},
   "outputs": [
    {
     "data": {
      "text/plain": [
       "[0.0,\n",
       " 5.0,\n",
       " 0.0,\n",
       " 0.0,\n",
       " 0.0,\n",
       " 0.0,\n",
       " 0.0,\n",
       " 0.0,\n",
       " 0.0,\n",
       " 0.0,\n",
       " 0.0,\n",
       " 0.0,\n",
       " 0.0,\n",
       " 0.0,\n",
       " 0.0,\n",
       " 0.0,\n",
       " 0.0,\n",
       " 0.0,\n",
       " 0.0,\n",
       " 0.0,\n",
       " 0.0,\n",
       " 0.0,\n",
       " 0.0,\n",
       " 0.0,\n",
       " 0.0,\n",
       " 0.0,\n",
       " 0.0,\n",
       " 0.0,\n",
       " 0.0,\n",
       " 0.0,\n",
       " 0.0,\n",
       " 0.0,\n",
       " 5.0,\n",
       " 0.0,\n",
       " 0.0,\n",
       " 0.0,\n",
       " 0.0,\n",
       " 0.0,\n",
       " 0.0,\n",
       " 0.0,\n",
       " 0.0,\n",
       " 0.0,\n",
       " 0.0,\n",
       " 0.0,\n",
       " 0.0,\n",
       " 5.0,\n",
       " 0.0,\n",
       " 0.0,\n",
       " 0.0,\n",
       " 0.0,\n",
       " 0.0,\n",
       " 0.0,\n",
       " 0.0,\n",
       " 0.0,\n",
       " 0.0,\n",
       " 0.0,\n",
       " 0.0,\n",
       " 0.0,\n",
       " 0.0,\n",
       " 0.0,\n",
       " 0.0,\n",
       " 0.0,\n",
       " 0.0,\n",
       " 0.0,\n",
       " 0.0,\n",
       " 0.0,\n",
       " 0.0,\n",
       " 0.0,\n",
       " 0.0,\n",
       " 0.0,\n",
       " 0.0,\n",
       " 5.0,\n",
       " 0.0,\n",
       " 0.0,\n",
       " 0.0,\n",
       " 0.0,\n",
       " 0.0,\n",
       " 0.0,\n",
       " 0.0,\n",
       " 0.0,\n",
       " 0.0,\n",
       " 0.0,\n",
       " 0.0,\n",
       " 0.0,\n",
       " 0.0,\n",
       " 0.0,\n",
       " 0.0,\n",
       " 0.0,\n",
       " 0.0,\n",
       " 0.0,\n",
       " 0.0,\n",
       " 0.0,\n",
       " 0.0,\n",
       " 0.0,\n",
       " 0.0,\n",
       " 0.0,\n",
       " 0.0,\n",
       " 0.0,\n",
       " 0.0,\n",
       " 0.0,\n",
       " 0.0,\n",
       " 0.0,\n",
       " 0.0,\n",
       " 0.0,\n",
       " 0.0,\n",
       " 0.0,\n",
       " 0.0,\n",
       " 0.0,\n",
       " 0.0,\n",
       " 0.0,\n",
       " 0.0,\n",
       " 0.0,\n",
       " 0.0,\n",
       " 0.0,\n",
       " 0.0,\n",
       " 0.0,\n",
       " 0.0,\n",
       " 0.0,\n",
       " 0.0,\n",
       " 0.0,\n",
       " 0.0,\n",
       " 0.0,\n",
       " 0.0,\n",
       " 0.0,\n",
       " 0.0,\n",
       " 0.0,\n",
       " 0.0,\n",
       " 0.0,\n",
       " 0.0,\n",
       " 0.0,\n",
       " 0.0,\n",
       " 0.0,\n",
       " 0.0,\n",
       " 0.0,\n",
       " 0.0,\n",
       " 0.0,\n",
       " 0.0,\n",
       " 0.0,\n",
       " 0.0,\n",
       " 0.0,\n",
       " 0.0,\n",
       " 0.0,\n",
       " 0.0,\n",
       " 0.0,\n",
       " 0.0]"
      ]
     },
     "execution_count": 22,
     "metadata": {},
     "output_type": "execute_result"
    }
   ],
   "source": [
    "sample = sampleset.first[0]\n",
    "\n",
    "# Number of decision variables\n",
    "num_decision_variables = n_assets\n",
    "\n",
    "# Reconstruct the original decision variables\n",
    "decision_variables = []\n",
    "for i in range(num_decision_variables):\n",
    "    decision_variables.append(sample[f'x_{i}'])\n",
    "\n",
    "decision_variables\n"
   ]
  },
  {
   "cell_type": "markdown",
   "metadata": {},
   "source": [
    "Calculating the Return"
   ]
  },
  {
   "cell_type": "code",
   "execution_count": 23,
   "metadata": {},
   "outputs": [
    {
     "name": "stdout",
     "output_type": "stream",
     "text": [
      "0.20186450006434886\n"
     ]
    }
   ],
   "source": [
    "# Find the weights\n",
    "result = [x / S for x in decision_variables]\n",
    "\n",
    "\n",
    "# Multiply corresponding elements and sum them up\n",
    "total = sum(x * y for x, y in zip(expected_returns, result))\n",
    "\n",
    "print(total)"
   ]
  },
  {
   "cell_type": "markdown",
   "metadata": {},
   "source": [
    "Now let us test to see if all the constraints are satisfied"
   ]
  },
  {
   "cell_type": "code",
   "execution_count": 24,
   "metadata": {},
   "outputs": [
    {
     "name": "stdout",
     "output_type": "stream",
     "text": [
      "Risk Constraint Satisfied: True\n",
      "Risk Value: 0.014684182951557738 <= 0.1\n",
      "Linking Constraints Satisfied: True\n",
      "Cardinality Constraint Satisfied: True\n",
      "Number of Assets Included: 4 <= 15\n",
      "Non-negativity Constraints Satisfied: True\n",
      "Sum of units Constraint Satisfied: True\n",
      "Number of units Included: 20.0 <= 20\n"
     ]
    }
   ],
   "source": [
    "# Extract y values from sample\n",
    "y_optimized = np.array([sample[f'y_{i}'] for i in range(n_assets)])\n",
    "\n",
    "# Convert decision_variables to a numpy array for easy manipulation\n",
    "x_optimized = np.array(decision_variables)\n",
    "w_optimized = np.array(result)\n",
    "\n",
    "# Now, checking the constraints with these values\n",
    "# Constraint 1: Risk constraint\n",
    "risk_value = np.sqrt(np.dot(np.dot(w_optimized.T, cov_matrix), w_optimized))\n",
    "print(f\"Risk Constraint Satisfied: {risk_value <= R}\")\n",
    "print(f\"Risk Value: {risk_value} <= {R}\")\n",
    "\n",
    "# Constraint 2: Linking constraint\n",
    "diversification_values = x_optimized <= D * y_optimized\n",
    "print(f\"Linking Constraints Satisfied: {all(diversification_values)}\")\n",
    "\n",
    "# Constraint 3: Cardinality constraint\n",
    "cardinality_value = (x_optimized > 0).sum()\n",
    "print(f\"Cardinality Constraint Satisfied: {cardinality_value <= K}\")\n",
    "print(f\"Number of Assets Included: {cardinality_value} <= {K}\")\n",
    "\n",
    "# Constraint 4: Non-negativity constraint\n",
    "non_negativity_satisfied = all(x_optimized >= 0)\n",
    "print(f\"Non-negativity Constraints Satisfied: {non_negativity_satisfied}\")\n",
    "\n",
    "\n",
    "# Constraint 5: Sum of units\n",
    "unit_sum = sum(x_optimized)\n",
    "print(f\"Sum of units Constraint Satisfied: {unit_sum <= S}\")\n",
    "print(f\"Number of units Included: {unit_sum} <= {S}\")\n"
   ]
  },
  {
   "cell_type": "markdown",
   "metadata": {},
   "source": [
    "Checking the assets to invest in"
   ]
  },
  {
   "cell_type": "code",
   "execution_count": 25,
   "metadata": {},
   "outputs": [
    {
     "name": "stdout",
     "output_type": "stream",
     "text": [
      "  Asset  Value\n",
      "0  AAPL    5.0\n",
      "1   ARE    5.0\n",
      "2  BIIB    5.0\n",
      "3   CHD    5.0\n"
     ]
    }
   ],
   "source": [
    "values_list = x_optimized.tolist()\n",
    "\n",
    "# Creating a new DataFrame with column names and values where values are > 0\n",
    "filtered_data = {'Asset': [], 'Value': []}\n",
    "for column_name, value in zip(df.columns, values_list):\n",
    "    if value > 0:\n",
    "        filtered_data['Asset'].append(column_name)\n",
    "        filtered_data['Value'].append(value)\n",
    "\n",
    "new_df = pd.DataFrame(filtered_data)\n",
    "\n",
    "print(new_df)"
   ]
  },
  {
   "cell_type": "markdown",
   "metadata": {},
   "source": [
    "Calculating the portfolio with the highest returns"
   ]
  },
  {
   "cell_type": "code",
   "execution_count": 59,
   "metadata": {},
   "outputs": [
    {
     "name": "stdout",
     "output_type": "stream",
     "text": [
      "The number of units to buy: \n",
      "[ 2.  8.  3.  7.  4. 14.  4.  7.  2.  7. 10. 13.  1. 11.  6.  0.  1. 12.\n",
      "  4. 22.  1. 10.  2.  4.  8.  3.  0.  0.  3.  9. 11.  9.  1.  3.  4.  1.\n",
      "  3.  1.  9.  0. 11.  0. 10.  9.  6.  0.  9. 15.  5.  1.  1.  6. 12. 10.\n",
      " 21. 24. 15.  8. 12. 12. 11.  6.  2.  6.  0.  1.  9.  0.  8.  8.  0.  0.\n",
      "  0.  6. 24. 21.  7. 13.  6.  1.  1.  4.  5. 19. 15.  1.  0. 14.  0.  8.\n",
      "  2.  5.  5.  2. 15. 15.  7.  4.  8. 10.  3.  1.  2.  0.  4.  2.  5.  5.\n",
      " 12.  0. 20. 13.  5.  3.  2.  0.  4.  1.  8.  7.  5.  1. 13.  0.  8.  0.\n",
      "  1. 20.  0.  8. 15.  7. 29.  3.  9.  8.  7.  0. 34. 14.  1. 15.  6. 10.\n",
      " 13.]\n",
      "SUM OF WEIGHTS: 1.0000000000000007\n",
      "Risk:  0.011417779924015797\n",
      "Return:  0.16256428555818447\n"
     ]
    }
   ],
   "source": [
    "#Sum of shares\n",
    "S = 1000\n",
    "\n",
    "X = [Integer(f\"x_{i}\") for i in range(n_assets)] #To represent x\n",
    "W = [x/S for x in X] #For the weight\n",
    "\n",
    "H_obj = 0\n",
    "for i in range(n_assets):\n",
    "    H_obj -= expected_returns[i] * W[i]\n",
    "\n",
    "# Create the CQM Object\n",
    "cqm = ConstrainedQuadraticModel()\n",
    "\n",
    "#Adding the objective function\n",
    "cqm.set_objective(H_obj)\n",
    "\n",
    "\n",
    "#Adding the sum of shares constraint\n",
    "cqm.add_constraint_from_model(sum(X), '==', S, label=\"Total Shares\", weight=5)\n",
    "\n",
    "#Solve the problem\n",
    "sampleset = sampler.sample_cqm(cqm)\n",
    "\n",
    "#Checking for violations\n",
    "for label, violation in cqm.iter_violations(sampleset.first[0], skip_satisfied=True):\n",
    "    print(label, violation)\n",
    "\n",
    "#Recreating the original variables\n",
    "sample = sampleset.first[0]\n",
    "\n",
    "# Number of decision variables\n",
    "num_decision_variables = n_assets\n",
    "\n",
    "# Reconstruct the original decision variables\n",
    "decision_variables = []\n",
    "for i in range(num_decision_variables):\n",
    "    decision_variables.append(sample[f'x_{i}'])\n",
    "\n",
    "#Calculating the total return\n",
    "\n",
    "# Find the weights\n",
    "weights = [x / S for x in decision_variables]\n",
    "\n",
    "# Multiply corresponding elements and sum them up\n",
    "total = sum(x * y for x, y in zip(expected_returns, weights))\n",
    "\n",
    "# Convert decision_variables to a numpy array for easy manipulation\n",
    "x_optimized_max_return = np.array(decision_variables)\n",
    "\n",
    "# Convert weights to a numpy array for easy manipulation\n",
    "w_optimized_max_return = np.array(weights)\n",
    "\n",
    "# Risk Value\n",
    "risk_value_maximum_return = np.sqrt(np.dot(np.dot(w_optimized_max_return.T, cov_matrix), w_optimized_max_return))\n",
    "\n",
    "print(\"The number of units to buy: \")\n",
    "print(x_optimized_max_return)\n",
    "print(\"SUM OF WEIGHTS:\",sum(w_optimized_max_return))\n",
    "print(\"Risk: \", risk_value_maximum_return)\n",
    "print(\"Return: \", total)"
   ]
  },
  {
   "cell_type": "markdown",
   "metadata": {},
   "source": [
    "Calculating the portolio with the lowest risk"
   ]
  },
  {
   "cell_type": "code",
   "execution_count": 60,
   "metadata": {},
   "outputs": [
    {
     "name": "stdout",
     "output_type": "stream",
     "text": [
      "The number of units to buy: \n",
      "[  0.   0.   0.   0.   0.   0.   0.   0.   0.   0.   1.   0.   0.   0.\n",
      "   0.   0.   0.   0.   0.   0.   0.   0.   0.   0.   0.   0.   0.   0.\n",
      "   0.   0.   0.   0.   0.   0.   0.   0.   0.   0.   0.   0.   0.   0.\n",
      "   0.   0.   0.   0.   0.   0.   0.   0.   0.   0.   0.   0.   0.   0.\n",
      "   0.   0.   0.   0.   0.   0.   0.   0.   0.   0.   0.   0.   0.   0.\n",
      "   0.   0.   0.   0.   0.   0.   0.   0.   0.   0.   0.   0.   0.   0.\n",
      "   0.   0.   0.   0.   0.   0.   0.   0.   0.   0.   0.   0.   0. 999.\n",
      "   0.   0.   0.   0.   0.   0.   0.   0.   0.   0.   0.   0.   0.   0.\n",
      "   0.   0.   0.   0.   0.   0.   0.   0.   0.   0.   0.   0.   0.   0.\n",
      "   0.   0.   0.   0.   0.   0.   0.   0.   0.   0.   0.   0.   0.   0.\n",
      "   0.   0.   0.   0.   0.]\n",
      "SUM OF WEIGHTS: 1.0\n",
      "Risk:  0.009727443177069054\n",
      "Return:  0.03555056117475771\n"
     ]
    }
   ],
   "source": [
    "#Sum of shares\n",
    "S = 1000\n",
    "\n",
    "\n",
    "X = [Integer(f\"x_{i}\") for i in range(n_assets)] #To represent x\n",
    "W = [x/S for x in X] #For the weight\n",
    "\n",
    "\n",
    "# Convert the Variance Covariance matrix to a NumPy array\n",
    "cov_matrix_np = cov_matrix.to_numpy()\n",
    "\n",
    "# Convert X to a NumPy array\n",
    "W_numeric = np.array(W)  \n",
    "\n",
    "# Calculate the total variance\n",
    "total_variance = np.dot(W_numeric.T, np.dot(cov_matrix_np, W_numeric))\n",
    "\n",
    "# Create the CQM Object\n",
    "cqm = ConstrainedQuadraticModel()\n",
    "\n",
    "#Adding the objective function\n",
    "cqm.set_objective(total_variance)\n",
    "\n",
    "\n",
    "#Adding the sum of shares constraint\n",
    "cqm.add_constraint_from_model(sum(X), '==', S, label=\"Total Shares\", weight=1)\n",
    "\n",
    "#Solve the problem\n",
    "sampleset = sampler.sample_cqm(cqm)\n",
    "\n",
    "\n",
    "\n",
    "#Checking for violations\n",
    "for label, violation in cqm.iter_violations(sampleset.first[0], skip_satisfied=True):\n",
    "    print(label, violation)\n",
    "\n",
    "\n",
    "\n",
    "#Recreating the original variables\n",
    "sample = sampleset.first[0]\n",
    "\n",
    "# Number of decision variables\n",
    "num_decision_variables = n_assets\n",
    "\n",
    "# Reconstruct the original decision variables\n",
    "decision_variables = []\n",
    "for i in range(num_decision_variables):\n",
    "    decision_variables.append(sample[f'x_{i}'])\n",
    "\n",
    "\n",
    "\n",
    "\n",
    "#Calculating the total return\n",
    "\n",
    "# Find the weights\n",
    "weights = [x / S for x in decision_variables]\n",
    "\n",
    "\n",
    "# Multiply corresponding elements and sum them up\n",
    "total = sum(x * y for x, y in zip(expected_returns, weights))\n",
    "\n",
    "# Convert decision_variables to a numpy array for easy manipulation\n",
    "x_optimized_MIN_RISK = np.array(decision_variables)\n",
    "\n",
    "# Convert weights to a numpy array for easy manipulation\n",
    "w_optimized_MIN_RISK = np.array(weights)\n",
    "\n",
    "# Risk Value\n",
    "risk_value_minimum = np.sqrt(np.dot(np.dot(w_optimized_MIN_RISK.T, cov_matrix), w_optimized_MIN_RISK))\n",
    "\n",
    "\n",
    "print(\"The number of units to buy: \")\n",
    "print(x_optimized_MIN_RISK)\n",
    "print(\"SUM OF WEIGHTS:\",sum(w_optimized_MIN_RISK))\n",
    "print(\"Risk: \", risk_value_minimum)\n",
    "print(\"Return: \", total)"
   ]
  },
  {
   "cell_type": "markdown",
   "metadata": {},
   "source": [
    "Calculating the efficient frontier"
   ]
  },
  {
   "cell_type": "code",
   "execution_count": 100,
   "metadata": {},
   "outputs": [],
   "source": [
    "# Initialize arrays to store portfolio returns, volatilities, and weights\n",
    "num_ports = 5\n",
    "\n",
    "# Calculate the gap between portfolio volatilities for equally spaced portfolios\n",
    "vol_min = risk_value_minimum\n",
    "vol_max = risk_value_maximum_return\n",
    "gap = (vol_max - vol_min) / (num_ports)\n",
    "\n",
    "# Maximum acceptable risk (R): The total risk that the portfolio can assume, based on variance-covariance matrix\n",
    "Variance_Values = [(vol_min + gap*i) for i in range(num_ports)]\n"
   ]
  },
  {
   "cell_type": "code",
   "execution_count": 101,
   "metadata": {},
   "outputs": [
    {
     "name": "stdout",
     "output_type": "stream",
     "text": [
      "0.009727443177069054\n",
      "Max Risk 0.0010411774367427842\n",
      "0.010065510526458403\n",
      "Max Risk 0.0008189590152755289\n",
      "0.010403577875847751\n",
      "Max Risk 0.0007235174441479988\n",
      "0.0107416452252371\n",
      "Max Risk 0.00044810105315938955\n",
      "0.011079712574626449\n",
      "Max Risk 0.00025977148872069066\n"
     ]
    }
   ],
   "source": [
    "\"\"\"\n",
    "\n",
    "We will now loop over multiple risk values to calculate the return and get an efficient frontier and generate\n",
    "each of the portfolios for these risk values. Note that all the constraints except the number of shares and the investor should invest\n",
    "in and the risk value would be relaxed in this solution for the purpose of comparing with the vanilla markowitz model.\n",
    "\n",
    "\"\"\"\n",
    "\n",
    "results_list = []  # Initialize the list\n",
    "\n",
    "for R in Variance_Values:\n",
    "\n",
    "    # Check the variance value\n",
    "    print(R)\n",
    "\n",
    "    # Create the CQM Object\n",
    "    cqm = ConstrainedQuadraticModel()\n",
    "\n",
    "    #Adding the objective function\n",
    "    cqm.set_objective(H_obj)\n",
    "\n",
    "\n",
    "    # Add risk constraints\n",
    "    cqm.add_constraint_from_model(total_variance, '<=' ,(R)**2, label=\"Max Risk\",weight=1)\n",
    "\n",
    "    \n",
    "    #Adding the sum of shares constraint\n",
    "    cqm.add_constraint_from_model(sum(X), '==', S, label=\"Total Shares\", weight=1)\n",
    "\n",
    "\n",
    "    # Time the sampler\n",
    "    start_time = time.time()\n",
    "    sampleset = sampler.sample_cqm(cqm)\n",
    "    time_taken = time.time() - start_time\n",
    "\n",
    "\n",
    "    #Checking for violations\n",
    "    for label, violation in cqm.iter_violations(sampleset.first[0], skip_satisfied=True):\n",
    "        print(label, violation)\n",
    "\n",
    "\n",
    "    #Recreating the original variables\n",
    "    sample = sampleset.first[0]\n",
    "\n",
    "    # Number of decision variables\n",
    "    num_decision_variables = n_assets\n",
    "\n",
    "    # Reconstruct the original decision variables\n",
    "    decision_variables = []\n",
    "    for i in range(num_decision_variables):\n",
    "        decision_variables.append(sample[f'x_{i}'])\n",
    "\n",
    "\n",
    "    #Calculating the total return\n",
    "\n",
    "    # Find the weights\n",
    "    weights = [x / S for x in decision_variables]\n",
    "\n",
    "\n",
    "    # Multiply corresponding elements and sum them up\n",
    "    total = sum(x * y for x, y in zip(expected_returns, weights))\n",
    "\n",
    "    # Convert decision_variables to a numpy array for easy manipulation\n",
    "    x_optimized = np.array(decision_variables)\n",
    "\n",
    "    # Convert weights to a numpy array for easy manipulation\n",
    "    w_optimized = np.array(weights)\n",
    "\n",
    "    # Constraint 1: Risk constraint\n",
    "    risk_value = np.sqrt(np.dot(np.dot(w_optimized.T, cov_matrix), w_optimized))\n",
    "\n",
    "    # Constraint 2: Non-negativity constraint\n",
    "    non_negativity_satisfied = all(x_optimized >= 0)\n",
    "\n",
    "    # Constraint 3: Sum of shares constraint\n",
    "    sum_of_shares_satisfied = sum(x_optimized) == S\n",
    "\n",
    "    #Creating the asset dataframe\n",
    "    values_list = x_optimized.tolist()\n",
    "\n",
    "    # Creating a new DataFrame with column names and values where values are > 0\n",
    "    filtered_data = {'Asset': [], 'Value': []}\n",
    "    for column_name, value in zip(df.columns, values_list):\n",
    "        if value > 0:\n",
    "            filtered_data['Asset'].append(column_name)\n",
    "            filtered_data['Value'].append(value)\n",
    "\n",
    "    # Create a dictionary for the current iteration\n",
    "    iteration_results = {\n",
    "        'time_taken': time_taken,\n",
    "        'risk_value': risk_value,\n",
    "        'R': R,\n",
    "        'total_return': total,\n",
    "        'risk_constraint_satisfied': risk_value <= R,\n",
    "        'non_negativity_satisfied': non_negativity_satisfied,\n",
    "        'Total_Shares_satisfied': sum_of_shares_satisfied,\n",
    "        'assets_included_df': filtered_data\n",
    "    }\n",
    "\n",
    "    # Step 4: Append this dictionary to the list\n",
    "    results_list.append(iteration_results)"
   ]
  },
  {
   "cell_type": "markdown",
   "metadata": {},
   "source": [
    "Creating a dataframe of results"
   ]
  },
  {
   "cell_type": "code",
   "execution_count": 102,
   "metadata": {},
   "outputs": [],
   "source": [
    "# Creating a DataFrame from results_list for specific metrics\n",
    "metrics_columns = [\n",
    "    'time_taken',\n",
    "    'risk_value',\n",
    "    'R',\n",
    "    'total_return',\n",
    "    'risk_constraint_satisfied',\n",
    "    'non_negativity_satisfied',\n",
    "    'Total_Shares_satisfied'\n",
    "]\n",
    "\n",
    "# Use a list comprehension to pick out these specific keys from each dictionary in the results list\n",
    "final_results_data = [{col: result[col] for col in metrics_columns} for result in results_list]\n",
    "\n",
    "# Convert this list of dictionaries to a DataFrame\n",
    "final_results_df = pd.DataFrame(final_results_data)\n",
    "\n",
    "# Save the DataFrame as an Excel file\n",
    "final_results_df.to_excel('Final_Results.xlsx', index=False)\n"
   ]
  },
  {
   "cell_type": "markdown",
   "metadata": {},
   "source": [
    "Plotting the efficient frontier"
   ]
  },
  {
   "cell_type": "code",
   "execution_count": 103,
   "metadata": {},
   "outputs": [],
   "source": [
    "#Calculating the sharpe ratio\n",
    "final_results_df[\"Sharpe_Ratio\"]=final_results_df[\"total_return\"]/final_results_df[\"risk_value\"]"
   ]
  },
  {
   "cell_type": "code",
   "execution_count": 104,
   "metadata": {},
   "outputs": [
    {
     "data": {
      "image/png": "[encoded data removed]",
      "text/plain": [
       "<Figure size 2000x1000 with 2 Axes>"
      ]
     },
     "metadata": {},
     "output_type": "display_data"
    }
   ],
   "source": [
    "\n",
    "# Plotting the Efficient Frontier\n",
    "plt.figure(figsize=(20, 10))\n",
    "plt.scatter(final_results_df[\"risk_value\"], final_results_df[\"total_return\"], c=final_results_df[\"Sharpe_Ratio\"], cmap='viridis')\n",
    "plt.colorbar(label='Sharpe Ratio')\n",
    "plt.xlabel('Volatility')\n",
    "plt.ylabel('Return')\n",
    "plt.title('Efficient Frontier')\n",
    "plt.show()\n"
   ]
  },
  {
   "cell_type": "markdown",
   "metadata": {},
   "source": [
    "Creating the excels of Asset Allocations"
   ]
  },
  {
   "cell_type": "code",
   "execution_count": 86,
   "metadata": {},
   "outputs": [],
   "source": [
    "for i, result in enumerate(results_list, start=1):\n",
    "    # Convert filtered_data (which replaced new_df) to a DataFrame\n",
    "    assets_df = pd.DataFrame(result['assets_included_df'])\n",
    "    \n",
    "    # Save the DataFrame as an Excel file\n",
    "    file_name = f'Assets{i}.xlsx'\n",
    "    assets_df.to_excel(file_name, index=False)"
   ]
  }
 ],
 "metadata": {
  "kernelspec": {
   "display_name": "venv",
   "language": "python",
   "name": "python3"
  },
  "language_info": {
   "codemirror_mode": {
    "name": "ipython",
    "version": 3
   },
   "file_extension": ".py",
   "mimetype": "text/x-python",
   "name": "python",
   "nbconvert_exporter": "python",
   "pygments_lexer": "ipython3",
   "version": "3.9.10"
  }
 },
 "nbformat": 4,
 "nbformat_minor": 2
}
