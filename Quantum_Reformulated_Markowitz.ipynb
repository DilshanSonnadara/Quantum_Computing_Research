{
 "cells": [
  {
   "cell_type": "markdown",
   "metadata": {},
   "source": [
    "# Reforumlated Markowitz Model - Optimization Codes through Quantum Computing"
   ]
  },
  {
   "cell_type": "markdown",
   "metadata": {},
   "source": [
    "Import the necessary libraries"
   ]
  },
  {
   "cell_type": "code",
   "execution_count": 69,
   "metadata": {},
   "outputs": [],
   "source": [
    "import numpy as np\n",
    "import pandas as pd\n",
    "from dimod import ConstrainedQuadraticModel, Integer, Binary\n",
    "import math\n",
    "import time"
   ]
  },
  {
   "cell_type": "markdown",
   "metadata": {},
   "source": [
    "Importing the Data"
   ]
  },
  {
   "cell_type": "code",
   "execution_count": 70,
   "metadata": {},
   "outputs": [],
   "source": [
    "df = pd.read_excel(\"Cleaned_Data_Index_1.xlsx\")"
   ]
  },
  {
   "cell_type": "markdown",
   "metadata": {},
   "source": [
    "Changing the Date to the index"
   ]
  },
  {
   "cell_type": "code",
   "execution_count": 71,
   "metadata": {},
   "outputs": [],
   "source": [
    "# Convert the 'date' column to datetime format \n",
    "df['Date'] = pd.to_datetime(df['Date'])\n",
    "\n",
    "# Set the 'date' column as the index\n",
    "df.set_index('Date', inplace=True)"
   ]
  },
  {
   "cell_type": "markdown",
   "metadata": {},
   "source": [
    "Calculating the expected returns and the variance covariance matrix"
   ]
  },
  {
   "cell_type": "code",
   "execution_count": 72,
   "metadata": {},
   "outputs": [],
   "source": [
    "# Calculate expected profits for each asset\n",
    "expected_profits = df.mean()\n",
    "\n",
    "# Calculate the variance-covariance matrix\n",
    "cov_matrix = df.cov()\n",
    "\n",
    "\n",
    "#Converting the expected profits to a numpy array\n",
    "expected_profits = expected_profits.values\n",
    "\n",
    "#The number of assets\n",
    "n_assets = len(expected_profits)\n"
   ]
  },
  {
   "cell_type": "markdown",
   "metadata": {},
   "source": [
    "### Setting the limits of the constraints"
   ]
  },
  {
   "cell_type": "markdown",
   "metadata": {},
   "source": [
    "Setting the other constraints limits"
   ]
  },
  {
   "cell_type": "code",
   "execution_count": 73,
   "metadata": {},
   "outputs": [],
   "source": [
    "# Maximum acceptable risk (R): The total risk that the portfolio can assume, based on variance-covariance matrix\n",
    "R = 10\n",
    "\n",
    "# Maximum units of each asset that can be purchased (D)\n",
    "D = 30\n",
    "\n",
    "# Maximum number of assets in the portfolio (K): The maximum number of different assets that can be included in the portfolio\n",
    "K = 20"
   ]
  },
  {
   "cell_type": "markdown",
   "metadata": {},
   "source": [
    "Creating the Decision Variables"
   ]
  },
  {
   "cell_type": "code",
   "execution_count": 74,
   "metadata": {},
   "outputs": [],
   "source": [
    "y = [Binary(f\"y_{i}\") for i in range(n_assets)] #To represent y"
   ]
  },
  {
   "cell_type": "code",
   "execution_count": 75,
   "metadata": {},
   "outputs": [],
   "source": [
    "X = [Integer(f\"x_{i}\") for i in range(n_assets)] #To represent x\n"
   ]
  },
  {
   "cell_type": "markdown",
   "metadata": {},
   "source": [
    "Create the CQM Object"
   ]
  },
  {
   "cell_type": "code",
   "execution_count": 76,
   "metadata": {},
   "outputs": [],
   "source": [
    "cqm = ConstrainedQuadraticModel()"
   ]
  },
  {
   "cell_type": "markdown",
   "metadata": {},
   "source": [
    "Creating the Objective Function"
   ]
  },
  {
   "cell_type": "code",
   "execution_count": 77,
   "metadata": {},
   "outputs": [],
   "source": [
    "H_obj = 0\n",
    "for i in range(n_assets):\n",
    "    H_obj -= expected_profits[i] * X[i]"
   ]
  },
  {
   "cell_type": "markdown",
   "metadata": {},
   "source": [
    "Creating the risk constraint"
   ]
  },
  {
   "cell_type": "code",
   "execution_count": 78,
   "metadata": {},
   "outputs": [],
   "source": [
    "# Convert the DataFrame to a NumPy array\n",
    "cov_matrix_np = cov_matrix.to_numpy()\n",
    "\n",
    "# Convert X to a NumPy array \n",
    "X_numeric = np.array(X)  \n",
    "\n",
    "# Calculate the total variance\n",
    "total_variance = np.dot(X_numeric.T, np.dot(cov_matrix_np, X_numeric))"
   ]
  },
  {
   "cell_type": "markdown",
   "metadata": {},
   "source": [
    "Setting the Objective Function"
   ]
  },
  {
   "cell_type": "code",
   "execution_count": 79,
   "metadata": {},
   "outputs": [],
   "source": [
    "cqm.set_objective(H_obj)"
   ]
  },
  {
   "cell_type": "markdown",
   "metadata": {},
   "source": [
    "Setting the Risk Constraint"
   ]
  },
  {
   "cell_type": "code",
   "execution_count": 80,
   "metadata": {},
   "outputs": [
    {
     "data": {
      "text/plain": [
       "'Variance'"
      ]
     },
     "execution_count": 80,
     "metadata": {},
     "output_type": "execute_result"
    }
   ],
   "source": [
    "cqm.add_constraint_from_model(total_variance, '<=', R**2, \"Variance\", weight=1)"
   ]
  },
  {
   "cell_type": "markdown",
   "metadata": {},
   "source": [
    "Adding the Linking Constraints"
   ]
  },
  {
   "cell_type": "code",
   "execution_count": 81,
   "metadata": {},
   "outputs": [],
   "source": [
    "# Diversification Constraints\n",
    "for i in range(n_assets):\n",
    "    cqm.add_constraint_from_model(X[i] - D*y[i], '<=', 0, label=f\"Linking_{i}\", weight=1)"
   ]
  },
  {
   "cell_type": "markdown",
   "metadata": {},
   "source": [
    "Adding the cardinality constraint"
   ]
  },
  {
   "cell_type": "code",
   "execution_count": 82,
   "metadata": {},
   "outputs": [
    {
     "data": {
      "text/plain": [
       "'Cardinality'"
      ]
     },
     "execution_count": 82,
     "metadata": {},
     "output_type": "execute_result"
    }
   ],
   "source": [
    "cqm.add_constraint_from_model(sum(y), '<=', K, label=f\"Cardinality\", weight=1)"
   ]
  },
  {
   "cell_type": "markdown",
   "metadata": {},
   "source": [
    "Solving the optimization problem"
   ]
  },
  {
   "cell_type": "code",
   "execution_count": 83,
   "metadata": {},
   "outputs": [],
   "source": [
    "from dwave.system import LeapHybridCQMSampler\n",
    "sampler = LeapHybridCQMSampler(token=\"DEV-2559c1545adea2a38a589d00b09592efde0e1bd5\")  "
   ]
  },
  {
   "cell_type": "code",
   "execution_count": 84,
   "metadata": {},
   "outputs": [],
   "source": [
    "# Time the sampler\n",
    "start_time = time.time()\n",
    "sampleset = sampler.sample_cqm(cqm)\n",
    "time_taken = time.time() - start_time"
   ]
  },
  {
   "cell_type": "code",
   "execution_count": 85,
   "metadata": {},
   "outputs": [
    {
     "name": "stdout",
     "output_type": "stream",
     "text": [
      "Sample(sample={'x_0': 0.0, 'x_1': 0.0, 'x_10': 0.0, 'x_100': 0.0, 'x_101': 0.0, 'x_102': 0.0, 'x_103': 7.0, 'x_104': 0.0, 'x_105': 0.0, 'x_106': 0.0, 'x_107': 0.0, 'x_108': 0.0, 'x_109': 0.0, 'x_11': 0.0, 'x_110': 0.0, 'x_111': 0.0, 'x_112': 0.0, 'x_113': 0.0, 'x_114': 15.0, 'x_115': 6.0, 'x_116': 0.0, 'x_117': 0.0, 'x_118': 0.0, 'x_119': 0.0, 'x_12': 10.0, 'x_120': 29.0, 'x_121': 0.0, 'x_122': 0.0, 'x_123': 0.0, 'x_124': 0.0, 'x_125': 0.0, 'x_126': 0.0, 'x_127': 0.0, 'x_128': 29.0, 'x_129': 0.0, 'x_13': 6.0, 'x_130': 0.0, 'x_131': 0.0, 'x_132': 0.0, 'x_133': 0.0, 'x_134': 0.0, 'x_135': 0.0, 'x_136': 0.0, 'x_137': 0.0, 'x_138': 0.0, 'x_139': 0.0, 'x_14': 0.0, 'x_140': 0.0, 'x_141': 0.0, 'x_142': 30.0, 'x_143': 0.0, 'x_144': 0.0, 'x_15': 0.0, 'x_16': 0.0, 'x_17': 0.0, 'x_18': 0.0, 'x_19': 0.0, 'x_2': 0.0, 'x_20': 0.0, 'x_21': 0.0, 'x_22': 23.0, 'x_23': 0.0, 'x_24': 0.0, 'x_25': 7.0, 'x_26': 0.0, 'x_27': 0.0, 'x_28': 0.0, 'x_29': 0.0, 'x_3': 0.0, 'x_30': 7.0, 'x_31': 0.0, 'x_32': 0.0, 'x_33': 0.0, 'x_34': 0.0, 'x_35': 0.0, 'x_36': 0.0, 'x_37': 0.0, 'x_38': 0.0, 'x_39': 0.0, 'x_4': 0.0, 'x_40': 20.0, 'x_41': 0.0, 'x_42': 0.0, 'x_43': 0.0, 'x_44': 0.0, 'x_45': 0.0, 'x_46': 0.0, 'x_47': 0.0, 'x_48': 0.0, 'x_49': 0.0, 'x_5': 0.0, 'x_50': 0.0, 'x_51': 18.0, 'x_52': 30.0, 'x_53': 0.0, 'x_54': 0.0, 'x_55': 0.0, 'x_56': 0.0, 'x_57': 0.0, 'x_58': 19.0, 'x_59': 28.0, 'x_6': 0.0, 'x_60': 0.0, 'x_61': 0.0, 'x_62': 10.0, 'x_63': 0.0, 'x_64': 0.0, 'x_65': 0.0, 'x_66': 0.0, 'x_67': 0.0, 'x_68': 0.0, 'x_69': 0.0, 'x_7': 0.0, 'x_70': 0.0, 'x_71': 0.0, 'x_72': 0.0, 'x_73': 0.0, 'x_74': 0.0, 'x_75': 0.0, 'x_76': 0.0, 'x_77': 0.0, 'x_78': 0.0, 'x_79': 0.0, 'x_8': 0.0, 'x_80': 0.0, 'x_81': 0.0, 'x_82': 0.0, 'x_83': 30.0, 'x_84': 0.0, 'x_85': 0.0, 'x_86': 0.0, 'x_87': 0.0, 'x_88': 0.0, 'x_89': 0.0, 'x_9': 0.0, 'x_90': 0.0, 'x_91': 13.0, 'x_92': 0.0, 'x_93': 0.0, 'x_94': 0.0, 'x_95': 0.0, 'x_96': 0.0, 'x_97': 25.0, 'x_98': 0.0, 'x_99': 0.0, 'y_0': 0.0, 'y_1': 0.0, 'y_10': 0.0, 'y_100': 0.0, 'y_101': 0.0, 'y_102': 0.0, 'y_103': 1.0, 'y_104': 0.0, 'y_105': 0.0, 'y_106': 0.0, 'y_107': 0.0, 'y_108': 0.0, 'y_109': 0.0, 'y_11': 0.0, 'y_110': 0.0, 'y_111': 0.0, 'y_112': 0.0, 'y_113': 0.0, 'y_114': 1.0, 'y_115': 1.0, 'y_116': 0.0, 'y_117': 0.0, 'y_118': 0.0, 'y_119': 0.0, 'y_12': 1.0, 'y_120': 1.0, 'y_121': 0.0, 'y_122': 0.0, 'y_123': 0.0, 'y_124': 0.0, 'y_125': 0.0, 'y_126': 0.0, 'y_127': 0.0, 'y_128': 1.0, 'y_129': 0.0, 'y_13': 1.0, 'y_130': 0.0, 'y_131': 0.0, 'y_132': 0.0, 'y_133': 0.0, 'y_134': 0.0, 'y_135': 0.0, 'y_136': 0.0, 'y_137': 0.0, 'y_138': 0.0, 'y_139': 0.0, 'y_14': 0.0, 'y_140': 0.0, 'y_141': 0.0, 'y_142': 1.0, 'y_143': 0.0, 'y_144': 0.0, 'y_15': 0.0, 'y_16': 0.0, 'y_17': 0.0, 'y_18': 0.0, 'y_19': 0.0, 'y_2': 0.0, 'y_20': 0.0, 'y_21': 0.0, 'y_22': 1.0, 'y_23': 0.0, 'y_24': 0.0, 'y_25': 1.0, 'y_26': 0.0, 'y_27': 0.0, 'y_28': 0.0, 'y_29': 0.0, 'y_3': 0.0, 'y_30': 1.0, 'y_31': 0.0, 'y_32': 0.0, 'y_33': 0.0, 'y_34': 0.0, 'y_35': 0.0, 'y_36': 0.0, 'y_37': 0.0, 'y_38': 0.0, 'y_39': 0.0, 'y_4': 0.0, 'y_40': 1.0, 'y_41': 0.0, 'y_42': 0.0, 'y_43': 0.0, 'y_44': 0.0, 'y_45': 0.0, 'y_46': 0.0, 'y_47': 0.0, 'y_48': 0.0, 'y_49': 0.0, 'y_5': 0.0, 'y_50': 0.0, 'y_51': 1.0, 'y_52': 1.0, 'y_53': 0.0, 'y_54': 0.0, 'y_55': 0.0, 'y_56': 0.0, 'y_57': 0.0, 'y_58': 1.0, 'y_59': 1.0, 'y_6': 0.0, 'y_60': 0.0, 'y_61': 0.0, 'y_62': 1.0, 'y_63': 0.0, 'y_64': 0.0, 'y_65': 0.0, 'y_66': 0.0, 'y_67': 0.0, 'y_68': 0.0, 'y_69': 0.0, 'y_7': 0.0, 'y_70': 0.0, 'y_71': 0.0, 'y_72': 0.0, 'y_73': 0.0, 'y_74': 0.0, 'y_75': 0.0, 'y_76': 0.0, 'y_77': 0.0, 'y_78': 0.0, 'y_79': 0.0, 'y_8': 0.0, 'y_80': 0.0, 'y_81': 0.0, 'y_82': 0.0, 'y_83': 1.0, 'y_84': 0.0, 'y_85': 0.0, 'y_86': 0.0, 'y_87': 0.0, 'y_88': 0.0, 'y_89': 0.0, 'y_9': 0.0, 'y_90': 0.0, 'y_91': 1.0, 'y_92': 0.0, 'y_93': 0.0, 'y_94': 0.0, 'y_95': 0.0, 'y_96': 0.0, 'y_97': 1.0, 'y_98': 0.0, 'y_99': 0.0}, energy=-0.3680312091725539, num_occurrences=1, is_satisfied=array([ True,  True,  True,  True,  True,  True,  True,  True,  True,\n",
      "        True,  True,  True,  True,  True,  True,  True,  True,  True,\n",
      "        True,  True,  True,  True,  True,  True,  True,  True,  True,\n",
      "        True,  True,  True,  True,  True,  True,  True,  True,  True,\n",
      "        True,  True,  True,  True,  True,  True,  True,  True,  True,\n",
      "        True,  True,  True,  True,  True,  True,  True,  True,  True,\n",
      "        True,  True,  True,  True,  True,  True,  True,  True,  True,\n",
      "        True,  True,  True,  True,  True,  True,  True,  True,  True,\n",
      "        True,  True,  True,  True,  True,  True,  True,  True,  True,\n",
      "        True,  True,  True,  True,  True,  True,  True,  True,  True,\n",
      "        True,  True,  True,  True,  True,  True,  True,  True,  True,\n",
      "        True,  True,  True,  True,  True,  True,  True,  True,  True,\n",
      "        True,  True,  True,  True,  True,  True,  True,  True,  True,\n",
      "        True,  True,  True,  True,  True,  True,  True,  True,  True,\n",
      "        True,  True,  True,  True,  True,  True,  True,  True,  True,\n",
      "        True,  True,  True,  True,  True,  True,  True,  True,  True,\n",
      "        True,  True,  True]), is_feasible=True)\n"
     ]
    }
   ],
   "source": [
    "print(sampleset.first) "
   ]
  },
  {
   "cell_type": "markdown",
   "metadata": {},
   "source": [
    "Checking for the violation of constraints"
   ]
  },
  {
   "cell_type": "code",
   "execution_count": 86,
   "metadata": {},
   "outputs": [],
   "source": [
    "for label, violation in cqm.iter_violations(sampleset.first[0], skip_satisfied=True):\n",
    "    print(label, violation)"
   ]
  },
  {
   "cell_type": "markdown",
   "metadata": {},
   "source": [
    "Recreating the original decision variables"
   ]
  },
  {
   "cell_type": "code",
   "execution_count": 87,
   "metadata": {},
   "outputs": [
    {
     "data": {
      "text/plain": [
       "[0.0,\n",
       " 0.0,\n",
       " 0.0,\n",
       " 0.0,\n",
       " 0.0,\n",
       " 0.0,\n",
       " 0.0,\n",
       " 0.0,\n",
       " 0.0,\n",
       " 0.0,\n",
       " 0.0,\n",
       " 0.0,\n",
       " 10.0,\n",
       " 6.0,\n",
       " 0.0,\n",
       " 0.0,\n",
       " 0.0,\n",
       " 0.0,\n",
       " 0.0,\n",
       " 0.0,\n",
       " 0.0,\n",
       " 0.0,\n",
       " 23.0,\n",
       " 0.0,\n",
       " 0.0,\n",
       " 7.0,\n",
       " 0.0,\n",
       " 0.0,\n",
       " 0.0,\n",
       " 0.0,\n",
       " 7.0,\n",
       " 0.0,\n",
       " 0.0,\n",
       " 0.0,\n",
       " 0.0,\n",
       " 0.0,\n",
       " 0.0,\n",
       " 0.0,\n",
       " 0.0,\n",
       " 0.0,\n",
       " 20.0,\n",
       " 0.0,\n",
       " 0.0,\n",
       " 0.0,\n",
       " 0.0,\n",
       " 0.0,\n",
       " 0.0,\n",
       " 0.0,\n",
       " 0.0,\n",
       " 0.0,\n",
       " 0.0,\n",
       " 18.0,\n",
       " 30.0,\n",
       " 0.0,\n",
       " 0.0,\n",
       " 0.0,\n",
       " 0.0,\n",
       " 0.0,\n",
       " 19.0,\n",
       " 28.0,\n",
       " 0.0,\n",
       " 0.0,\n",
       " 10.0,\n",
       " 0.0,\n",
       " 0.0,\n",
       " 0.0,\n",
       " 0.0,\n",
       " 0.0,\n",
       " 0.0,\n",
       " 0.0,\n",
       " 0.0,\n",
       " 0.0,\n",
       " 0.0,\n",
       " 0.0,\n",
       " 0.0,\n",
       " 0.0,\n",
       " 0.0,\n",
       " 0.0,\n",
       " 0.0,\n",
       " 0.0,\n",
       " 0.0,\n",
       " 0.0,\n",
       " 0.0,\n",
       " 30.0,\n",
       " 0.0,\n",
       " 0.0,\n",
       " 0.0,\n",
       " 0.0,\n",
       " 0.0,\n",
       " 0.0,\n",
       " 0.0,\n",
       " 13.0,\n",
       " 0.0,\n",
       " 0.0,\n",
       " 0.0,\n",
       " 0.0,\n",
       " 0.0,\n",
       " 25.0,\n",
       " 0.0,\n",
       " 0.0,\n",
       " 0.0,\n",
       " 0.0,\n",
       " 0.0,\n",
       " 7.0,\n",
       " 0.0,\n",
       " 0.0,\n",
       " 0.0,\n",
       " 0.0,\n",
       " 0.0,\n",
       " 0.0,\n",
       " 0.0,\n",
       " 0.0,\n",
       " 0.0,\n",
       " 0.0,\n",
       " 15.0,\n",
       " 6.0,\n",
       " 0.0,\n",
       " 0.0,\n",
       " 0.0,\n",
       " 0.0,\n",
       " 29.0,\n",
       " 0.0,\n",
       " 0.0,\n",
       " 0.0,\n",
       " 0.0,\n",
       " 0.0,\n",
       " 0.0,\n",
       " 0.0,\n",
       " 29.0,\n",
       " 0.0,\n",
       " 0.0,\n",
       " 0.0,\n",
       " 0.0,\n",
       " 0.0,\n",
       " 0.0,\n",
       " 0.0,\n",
       " 0.0,\n",
       " 0.0,\n",
       " 0.0,\n",
       " 0.0,\n",
       " 0.0,\n",
       " 0.0,\n",
       " 30.0,\n",
       " 0.0,\n",
       " 0.0]"
      ]
     },
     "execution_count": 87,
     "metadata": {},
     "output_type": "execute_result"
    }
   ],
   "source": [
    "sample = sampleset.first[0]\n",
    "\n",
    "\n",
    "# Number of decision variables\n",
    "num_decision_variables = n_assets\n",
    "\n",
    "# Reconstruct the original decision variables\n",
    "decision_variables = []\n",
    "for i in range(num_decision_variables):\n",
    "    decision_variables.append(sample[f'x_{i}'])\n",
    "\n",
    "decision_variables\n"
   ]
  },
  {
   "cell_type": "markdown",
   "metadata": {},
   "source": [
    "Calculating the total profit"
   ]
  },
  {
   "cell_type": "code",
   "execution_count": 88,
   "metadata": {},
   "outputs": [
    {
     "name": "stdout",
     "output_type": "stream",
     "text": [
      "0.3680312091725539\n"
     ]
    }
   ],
   "source": [
    "# Multiply corresponding elements and sum them up\n",
    "total = sum(x * y for x, y in zip(expected_profits, decision_variables))\n",
    "\n",
    "print(total)"
   ]
  },
  {
   "cell_type": "markdown",
   "metadata": {},
   "source": [
    "Now let us test to see if all the constraints are satisfied"
   ]
  },
  {
   "cell_type": "code",
   "execution_count": 92,
   "metadata": {},
   "outputs": [
    {
     "name": "stdout",
     "output_type": "stream",
     "text": [
      "Risk Constraint Satisfied: True\n",
      "Risk Value: 9.938048554653376 <= 10\n",
      "Linking Constraints Satisfied: True\n",
      "Cardinality Constraint Satisfied: True\n",
      "Number of Assets Included: 20 <= 20\n",
      "Non-negativity Constraints Satisfied: True\n"
     ]
    }
   ],
   "source": [
    "# Extract y values from sample\n",
    "y_optimized = np.array([sample[f'y_{i}'] for i in range(n_assets)])\n",
    "\n",
    "# Convert decision_variables to a numpy array for easy manipulation\n",
    "x_optimized = np.array(decision_variables)\n",
    "\n",
    "# Now, checking the constraints with these values\n",
    "# Constraint 1: Risk constraint\n",
    "risk_value = np.sqrt(np.dot(np.dot(x_optimized.T, cov_matrix), x_optimized))\n",
    "print(f\"Risk Constraint Satisfied: {risk_value <= R}\")\n",
    "print(f\"Risk Value: {risk_value} <= {R}\")\n",
    "\n",
    "# Constraint 2: Linking constraint\n",
    "diversification_values = x_optimized <= D * y_optimized\n",
    "print(f\"Linking Constraints Satisfied: {all(diversification_values)}\")\n",
    "\n",
    "# Constraint 3: Cardinality constraint\n",
    "cardinality_value = (x_optimized > 0).sum()\n",
    "print(f\"Cardinality Constraint Satisfied: {cardinality_value <= K}\")\n",
    "print(f\"Number of Assets Included: {cardinality_value} <= {K}\")\n",
    "\n",
    "# Constraint 4: Non-negativity constraint\n",
    "non_negativity_satisfied = all(x_optimized >= 0)\n",
    "print(f\"Non-negativity Constraints Satisfied: {non_negativity_satisfied}\")\n"
   ]
  },
  {
   "cell_type": "markdown",
   "metadata": {},
   "source": [
    "Checking the assets to invest in"
   ]
  },
  {
   "cell_type": "code",
   "execution_count": 93,
   "metadata": {},
   "outputs": [
    {
     "name": "stdout",
     "output_type": "stream",
     "text": [
      "   Asset  Value\n",
      "0    AIZ   10.0\n",
      "1    AJG    6.0\n",
      "2   AMGN   23.0\n",
      "3   ANET    7.0\n",
      "4    APH    7.0\n",
      "5    BAC   20.0\n",
      "6    BMY   18.0\n",
      "7     BR   30.0\n",
      "8    CAG   19.0\n",
      "9    CAH   28.0\n",
      "10  CBOE   10.0\n",
      "11   CMS   30.0\n",
      "12   CPB   13.0\n",
      "13  CTVA   25.0\n",
      "14    DG    7.0\n",
      "15  FANG   15.0\n",
      "16   GLW    6.0\n",
      "17   JNJ   29.0\n",
      "18   MRK   29.0\n",
      "19   WMT   30.0\n"
     ]
    }
   ],
   "source": [
    "values_list = x_optimized.tolist()\n",
    "\n",
    "# Creating a new DataFrame with column names and values where values are > 0\n",
    "filtered_data = {'Asset': [], 'Value': []}\n",
    "for column_name, value in zip(df.columns, values_list):\n",
    "    if value > 0:\n",
    "        filtered_data['Asset'].append(column_name)\n",
    "        filtered_data['Value'].append(value)\n",
    "\n",
    "new_df = pd.DataFrame(filtered_data)\n",
    "\n",
    "print(new_df)"
   ]
  },
  {
   "cell_type": "markdown",
   "metadata": {},
   "source": [
    "Converting the dataframe into an excel"
   ]
  },
  {
   "cell_type": "code",
   "execution_count": 496,
   "metadata": {},
   "outputs": [],
   "source": [
    "# new_df.to_excel(\"DF1.xlsx\")"
   ]
  },
  {
   "cell_type": "markdown",
   "metadata": {},
   "source": [
    "Saving the Results"
   ]
  },
  {
   "cell_type": "code",
   "execution_count": 497,
   "metadata": {},
   "outputs": [],
   "source": [
    "# B = [time_taken, risk_value, R, total]\n",
    "# A.append(B)\n",
    "\n",
    "# # Create a DataFrame with the specified column names\n",
    "# df = pd.DataFrame(A, columns=['time_taken', 'risk_value', 'R', 'total'])\n",
    "\n",
    "# df.to_excel(\"Quantum_Results.xlsx\")"
   ]
  }
 ],
 "metadata": {
  "kernelspec": {
   "display_name": "venv",
   "language": "python",
   "name": "python3"
  },
  "language_info": {
   "codemirror_mode": {
    "name": "ipython",
    "version": 3
   },
   "file_extension": ".py",
   "mimetype": "text/x-python",
   "name": "python",
   "nbconvert_exporter": "python",
   "pygments_lexer": "ipython3",
   "version": "3.9.10"
  }
 },
 "nbformat": 4,
 "nbformat_minor": 2
}
