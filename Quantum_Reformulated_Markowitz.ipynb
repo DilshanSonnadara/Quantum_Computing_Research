{
 "cells": [
  {
   "cell_type": "markdown",
   "metadata": {},
   "source": [
    "# Reforumlated Markowitz Model - Optimization Codes through Quantum Computing"
   ]
  },
  {
   "cell_type": "markdown",
   "metadata": {},
   "source": [
    "Import the necessary libraries"
   ]
  },
  {
   "cell_type": "code",
   "execution_count": 181,
   "metadata": {},
   "outputs": [],
   "source": [
    "import numpy as np\n",
    "import pandas as pd\n",
    "from dimod import ConstrainedQuadraticModel, Integer, Binary\n",
    "import math\n",
    "import time"
   ]
  },
  {
   "cell_type": "markdown",
   "metadata": {},
   "source": [
    "Importing the Data"
   ]
  },
  {
   "cell_type": "code",
   "execution_count": 182,
   "metadata": {},
   "outputs": [],
   "source": [
    "df = pd.read_excel(\"Cleaned_Data_Index_1.xlsx\")"
   ]
  },
  {
   "cell_type": "markdown",
   "metadata": {},
   "source": [
    "Changing the Date to the index"
   ]
  },
  {
   "cell_type": "code",
   "execution_count": 183,
   "metadata": {},
   "outputs": [],
   "source": [
    "# Convert the 'date' column to datetime format \n",
    "df['Date'] = pd.to_datetime(df['Date'])\n",
    "\n",
    "# Set the 'date' column as the index\n",
    "df.set_index('Date', inplace=True)"
   ]
  },
  {
   "cell_type": "markdown",
   "metadata": {},
   "source": [
    "Calculating the expected returns and the variance covariance matrix"
   ]
  },
  {
   "cell_type": "code",
   "execution_count": 184,
   "metadata": {},
   "outputs": [],
   "source": [
    "# Calculate expected profits for each asset\n",
    "expected_profits = df.mean()\n",
    "\n",
    "# Calculate the variance-covariance matrix\n",
    "cov_matrix = df.cov()\n",
    "\n",
    "\n",
    "#Converting the expected profits to a numpy array\n",
    "expected_profits = expected_profits.values\n",
    "\n",
    "#The number of assets\n",
    "n_assets = len(expected_profits)\n"
   ]
  },
  {
   "cell_type": "markdown",
   "metadata": {},
   "source": [
    "### Setting the limits of the constraints"
   ]
  },
  {
   "cell_type": "markdown",
   "metadata": {},
   "source": [
    "Setting the other constraints limits"
   ]
  },
  {
   "cell_type": "code",
   "execution_count": 185,
   "metadata": {},
   "outputs": [],
   "source": [
    "# Maximum acceptable risk (R): The total risk that the portfolio can assume, based on variance-covariance matrix\n",
    "R = 100\n",
    "\n",
    "# Maximum units of each asset that can be purchased (D)\n",
    "D = 50\n",
    "\n",
    "# Maximum number of assets in the portfolio (K): The maximum number of different assets that can be included in the portfolio\n",
    "K = 50"
   ]
  },
  {
   "cell_type": "markdown",
   "metadata": {},
   "source": [
    "Creating the Decision Variables"
   ]
  },
  {
   "cell_type": "code",
   "execution_count": 186,
   "metadata": {},
   "outputs": [],
   "source": [
    "y = [Binary(f\"y_{i}\") for i in range(n_assets)] #To represent y"
   ]
  },
  {
   "cell_type": "code",
   "execution_count": 187,
   "metadata": {},
   "outputs": [],
   "source": [
    "X = [Integer(f\"x_{i}\") for i in range(n_assets)] #To represent x"
   ]
  },
  {
   "cell_type": "markdown",
   "metadata": {},
   "source": [
    "Create the CQM Object"
   ]
  },
  {
   "cell_type": "code",
   "execution_count": 189,
   "metadata": {},
   "outputs": [],
   "source": [
    "cqm = ConstrainedQuadraticModel()"
   ]
  },
  {
   "cell_type": "markdown",
   "metadata": {},
   "source": [
    "Creating the Objective Function"
   ]
  },
  {
   "cell_type": "code",
   "execution_count": 190,
   "metadata": {},
   "outputs": [],
   "source": [
    "H_obj = 0\n",
    "for i in range(n_assets):\n",
    "    H_obj -= expected_profits[i] * X[i]"
   ]
  },
  {
   "cell_type": "markdown",
   "metadata": {},
   "source": [
    "Creating the risk constraint"
   ]
  },
  {
   "cell_type": "code",
   "execution_count": 191,
   "metadata": {},
   "outputs": [],
   "source": [
    "# Convert the DataFrame to a NumPy array\n",
    "cov_matrix_np = cov_matrix.to_numpy()\n",
    "\n",
    "# Convert X to a NumPy array\n",
    "X_numeric = np.array(X)  \n",
    "\n",
    "# Calculate the total variance\n",
    "total_variance = np.dot(X_numeric.T, np.dot(cov_matrix_np, X_numeric))"
   ]
  },
  {
   "cell_type": "markdown",
   "metadata": {},
   "source": [
    "Setting the Objective Function"
   ]
  },
  {
   "cell_type": "code",
   "execution_count": 167,
   "metadata": {},
   "outputs": [],
   "source": [
    "cqm.set_objective(H_obj)"
   ]
  },
  {
   "cell_type": "markdown",
   "metadata": {},
   "source": [
    "Setting the Risk Constraint"
   ]
  },
  {
   "cell_type": "code",
   "execution_count": 168,
   "metadata": {},
   "outputs": [
    {
     "data": {
      "text/plain": [
       "'Variance'"
      ]
     },
     "execution_count": 168,
     "metadata": {},
     "output_type": "execute_result"
    }
   ],
   "source": [
    "cqm.add_constraint_from_model(total_variance, '<=', R**2, \"Variance\", weight=1)"
   ]
  },
  {
   "cell_type": "markdown",
   "metadata": {},
   "source": [
    "Adding the Linking Constraints"
   ]
  },
  {
   "cell_type": "code",
   "execution_count": 169,
   "metadata": {},
   "outputs": [],
   "source": [
    "# Diversification Constraints\n",
    "for i in range(n_assets):\n",
    "    cqm.add_constraint_from_model(X[i] - D*y[i], '<=', 0, label=f\"Linking_{i}\", weight=1)"
   ]
  },
  {
   "cell_type": "markdown",
   "metadata": {},
   "source": [
    "Adding the cardinality constraint"
   ]
  },
  {
   "cell_type": "code",
   "execution_count": 170,
   "metadata": {},
   "outputs": [
    {
     "data": {
      "text/plain": [
       "'Cardinality'"
      ]
     },
     "execution_count": 170,
     "metadata": {},
     "output_type": "execute_result"
    }
   ],
   "source": [
    "cqm.add_constraint_from_model(sum(y), '<=', K, label=f\"Cardinality\", weight=1)"
   ]
  },
  {
   "cell_type": "markdown",
   "metadata": {},
   "source": [
    "Solving the optimization problem"
   ]
  },
  {
   "cell_type": "code",
   "execution_count": 193,
   "metadata": {},
   "outputs": [],
   "source": [
    "from dwave.system import LeapHybridCQMSampler\n",
    "sampler = LeapHybridCQMSampler(token=\"DEV-2559c1545adea2a38a589d00b09592efde0e1bd5\")  "
   ]
  },
  {
   "cell_type": "code",
   "execution_count": 172,
   "metadata": {},
   "outputs": [],
   "source": [
    "# Time the sampler\n",
    "start_time = time.time()\n",
    "sampleset = sampler.sample_cqm(cqm)\n",
    "time_taken = time.time() - start_time"
   ]
  },
  {
   "cell_type": "code",
   "execution_count": 173,
   "metadata": {},
   "outputs": [
    {
     "name": "stdout",
     "output_type": "stream",
     "text": [
      "Sample(sample={'x_0': 0.0, 'x_1': 10.0, 'x_10': 0.0, 'x_100': 0.0, 'x_101': 0.0, 'x_102': 0.0, 'x_103': 0.0, 'x_104': 27.0, 'x_105': 0.0, 'x_106': 0.0, 'x_107': 0.0, 'x_108': 0.0, 'x_109': 24.0, 'x_11': 0.0, 'x_110': 18.0, 'x_111': 0.0, 'x_112': 0.0, 'x_113': 19.0, 'x_114': 0.0, 'x_115': 0.0, 'x_116': 0.0, 'x_117': 0.0, 'x_118': 50.0, 'x_119': 0.0, 'x_12': 22.0, 'x_120': 0.0, 'x_121': 6.0, 'x_122': 0.0, 'x_123': 22.0, 'x_124': 0.0, 'x_125': 0.0, 'x_126': 44.0, 'x_127': 2.0, 'x_128': 0.0, 'x_129': 0.0, 'x_13': 49.0, 'x_130': 0.0, 'x_131': 0.0, 'x_132': 0.0, 'x_133': 0.0, 'x_134': 13.0, 'x_135': 24.0, 'x_136': 37.0, 'x_137': 0.0, 'x_138': 0.0, 'x_139': 12.0, 'x_14': 0.0, 'x_140': 37.0, 'x_141': 18.0, 'x_142': 0.0, 'x_143': 48.0, 'x_144': 0.0, 'x_15': 0.0, 'x_16': 0.0, 'x_17': 0.0, 'x_18': 0.0, 'x_19': 28.0, 'x_2': 25.0, 'x_20': 1.0, 'x_21': 23.0, 'x_22': 0.0, 'x_23': 0.0, 'x_24': 0.0, 'x_25': 6.0, 'x_26': 0.0, 'x_27': 14.0, 'x_28': 0.0, 'x_29': 0.0, 'x_3': 0.0, 'x_30': 0.0, 'x_31': 0.0, 'x_32': 0.0, 'x_33': 0.0, 'x_34': 0.0, 'x_35': 45.0, 'x_36': 0.0, 'x_37': 0.0, 'x_38': 0.0, 'x_39': 0.0, 'x_4': 0.0, 'x_40': 0.0, 'x_41': 0.0, 'x_42': 0.0, 'x_43': 0.0, 'x_44': 9.0, 'x_45': 0.0, 'x_46': 0.0, 'x_47': 0.0, 'x_48': 0.0, 'x_49': 17.0, 'x_5': 20.0, 'x_50': 0.0, 'x_51': 0.0, 'x_52': 0.0, 'x_53': 0.0, 'x_54': 17.0, 'x_55': 17.0, 'x_56': 0.0, 'x_57': 0.0, 'x_58': 29.0, 'x_59': 0.0, 'x_6': 0.0, 'x_60': 1.0, 'x_61': 0.0, 'x_62': 0.0, 'x_63': 23.0, 'x_64': 0.0, 'x_65': 0.0, 'x_66': 19.0, 'x_67': 0.0, 'x_68': 0.0, 'x_69': 0.0, 'x_7': 20.0, 'x_70': 0.0, 'x_71': 0.0, 'x_72': 20.0, 'x_73': 0.0, 'x_74': 0.0, 'x_75': 0.0, 'x_76': 0.0, 'x_77': 24.0, 'x_78': 47.0, 'x_79': 24.0, 'x_8': 0.0, 'x_80': 0.0, 'x_81': 24.0, 'x_82': 5.0, 'x_83': 12.0, 'x_84': 0.0, 'x_85': 0.0, 'x_86': 9.0, 'x_87': 0.0, 'x_88': 0.0, 'x_89': 50.0, 'x_9': 0.0, 'x_90': 0.0, 'x_91': 47.0, 'x_92': 0.0, 'x_93': 4.0, 'x_94': 34.0, 'x_95': 45.0, 'x_96': 0.0, 'x_97': 0.0, 'x_98': 0.0, 'x_99': 40.0, 'y_0': 0.0, 'y_1': 1.0, 'y_10': 0.0, 'y_100': 0.0, 'y_101': 0.0, 'y_102': 0.0, 'y_103': 0.0, 'y_104': 1.0, 'y_105': 0.0, 'y_106': 0.0, 'y_107': 0.0, 'y_108': 0.0, 'y_109': 1.0, 'y_11': 0.0, 'y_110': 1.0, 'y_111': 0.0, 'y_112': 0.0, 'y_113': 1.0, 'y_114': 0.0, 'y_115': 0.0, 'y_116': 0.0, 'y_117': 0.0, 'y_118': 1.0, 'y_119': 0.0, 'y_12': 1.0, 'y_120': 0.0, 'y_121': 1.0, 'y_122': 0.0, 'y_123': 1.0, 'y_124': 0.0, 'y_125': 0.0, 'y_126': 1.0, 'y_127': 1.0, 'y_128': 0.0, 'y_129': 0.0, 'y_13': 1.0, 'y_130': 0.0, 'y_131': 0.0, 'y_132': 0.0, 'y_133': 0.0, 'y_134': 1.0, 'y_135': 1.0, 'y_136': 1.0, 'y_137': 0.0, 'y_138': 0.0, 'y_139': 1.0, 'y_14': 0.0, 'y_140': 1.0, 'y_141': 1.0, 'y_142': 0.0, 'y_143': 1.0, 'y_144': 0.0, 'y_15': 0.0, 'y_16': 0.0, 'y_17': 0.0, 'y_18': 0.0, 'y_19': 1.0, 'y_2': 1.0, 'y_20': 1.0, 'y_21': 1.0, 'y_22': 0.0, 'y_23': 0.0, 'y_24': 0.0, 'y_25': 1.0, 'y_26': 0.0, 'y_27': 1.0, 'y_28': 0.0, 'y_29': 0.0, 'y_3': 0.0, 'y_30': 0.0, 'y_31': 0.0, 'y_32': 0.0, 'y_33': 0.0, 'y_34': 0.0, 'y_35': 1.0, 'y_36': 0.0, 'y_37': 0.0, 'y_38': 0.0, 'y_39': 0.0, 'y_4': 0.0, 'y_40': 0.0, 'y_41': 0.0, 'y_42': 0.0, 'y_43': 0.0, 'y_44': 1.0, 'y_45': 0.0, 'y_46': 0.0, 'y_47': 0.0, 'y_48': 0.0, 'y_49': 1.0, 'y_5': 1.0, 'y_50': 0.0, 'y_51': 0.0, 'y_52': 0.0, 'y_53': 0.0, 'y_54': 1.0, 'y_55': 1.0, 'y_56': 0.0, 'y_57': 0.0, 'y_58': 1.0, 'y_59': 0.0, 'y_6': 0.0, 'y_60': 1.0, 'y_61': 0.0, 'y_62': 0.0, 'y_63': 1.0, 'y_64': 0.0, 'y_65': 0.0, 'y_66': 1.0, 'y_67': 0.0, 'y_68': 0.0, 'y_69': 0.0, 'y_7': 1.0, 'y_70': 0.0, 'y_71': 0.0, 'y_72': 1.0, 'y_73': 0.0, 'y_74': 0.0, 'y_75': 0.0, 'y_76': 0.0, 'y_77': 1.0, 'y_78': 1.0, 'y_79': 1.0, 'y_8': 0.0, 'y_80': 0.0, 'y_81': 1.0, 'y_82': 1.0, 'y_83': 1.0, 'y_84': 0.0, 'y_85': 0.0, 'y_86': 1.0, 'y_87': 0.0, 'y_88': 0.0, 'y_89': 1.0, 'y_9': 0.0, 'y_90': 0.0, 'y_91': 1.0, 'y_92': 0.0, 'y_93': 1.0, 'y_94': 1.0, 'y_95': 1.0, 'y_96': 0.0, 'y_97': 0.0, 'y_98': 0.0, 'y_99': 1.0}, energy=-4.114048384204688, num_occurrences=1, is_satisfied=array([ True,  True,  True,  True,  True,  True,  True,  True,  True,\n",
      "        True,  True,  True,  True,  True,  True,  True,  True,  True,\n",
      "        True,  True,  True,  True,  True,  True,  True,  True,  True,\n",
      "        True,  True,  True,  True,  True,  True,  True,  True,  True,\n",
      "        True,  True,  True,  True,  True,  True,  True,  True,  True,\n",
      "        True,  True,  True,  True,  True,  True,  True,  True,  True,\n",
      "        True,  True,  True,  True,  True,  True,  True,  True,  True,\n",
      "        True,  True,  True,  True,  True,  True,  True,  True,  True,\n",
      "        True,  True,  True,  True,  True,  True,  True,  True,  True,\n",
      "        True,  True,  True,  True,  True,  True,  True,  True,  True,\n",
      "        True,  True,  True,  True,  True,  True,  True,  True,  True,\n",
      "        True,  True,  True,  True,  True,  True,  True,  True,  True,\n",
      "        True,  True,  True,  True,  True,  True,  True,  True,  True,\n",
      "        True,  True,  True,  True,  True,  True,  True,  True,  True,\n",
      "        True,  True,  True,  True,  True,  True,  True,  True,  True,\n",
      "        True,  True,  True,  True,  True,  True,  True,  True,  True,\n",
      "        True,  True,  True]), is_feasible=True)\n"
     ]
    }
   ],
   "source": [
    "print(sampleset.first) "
   ]
  },
  {
   "cell_type": "markdown",
   "metadata": {},
   "source": [
    "Checking for the violation of constraints"
   ]
  },
  {
   "cell_type": "code",
   "execution_count": 174,
   "metadata": {},
   "outputs": [],
   "source": [
    "for label, violation in cqm.iter_violations(sampleset.first[0], skip_satisfied=True):\n",
    "    print(label, violation)"
   ]
  },
  {
   "cell_type": "markdown",
   "metadata": {},
   "source": [
    "Recreating the original decision variables"
   ]
  },
  {
   "cell_type": "code",
   "execution_count": 175,
   "metadata": {},
   "outputs": [
    {
     "data": {
      "text/plain": [
       "[0.0,\n",
       " 10.0,\n",
       " 25.0,\n",
       " 0.0,\n",
       " 0.0,\n",
       " 20.0,\n",
       " 0.0,\n",
       " 20.0,\n",
       " 0.0,\n",
       " 0.0,\n",
       " 0.0,\n",
       " 0.0,\n",
       " 22.0,\n",
       " 49.0,\n",
       " 0.0,\n",
       " 0.0,\n",
       " 0.0,\n",
       " 0.0,\n",
       " 0.0,\n",
       " 28.0,\n",
       " 1.0,\n",
       " 23.0,\n",
       " 0.0,\n",
       " 0.0,\n",
       " 0.0,\n",
       " 6.0,\n",
       " 0.0,\n",
       " 14.0,\n",
       " 0.0,\n",
       " 0.0,\n",
       " 0.0,\n",
       " 0.0,\n",
       " 0.0,\n",
       " 0.0,\n",
       " 0.0,\n",
       " 45.0,\n",
       " 0.0,\n",
       " 0.0,\n",
       " 0.0,\n",
       " 0.0,\n",
       " 0.0,\n",
       " 0.0,\n",
       " 0.0,\n",
       " 0.0,\n",
       " 9.0,\n",
       " 0.0,\n",
       " 0.0,\n",
       " 0.0,\n",
       " 0.0,\n",
       " 17.0,\n",
       " 0.0,\n",
       " 0.0,\n",
       " 0.0,\n",
       " 0.0,\n",
       " 17.0,\n",
       " 17.0,\n",
       " 0.0,\n",
       " 0.0,\n",
       " 29.0,\n",
       " 0.0,\n",
       " 1.0,\n",
       " 0.0,\n",
       " 0.0,\n",
       " 23.0,\n",
       " 0.0,\n",
       " 0.0,\n",
       " 19.0,\n",
       " 0.0,\n",
       " 0.0,\n",
       " 0.0,\n",
       " 0.0,\n",
       " 0.0,\n",
       " 20.0,\n",
       " 0.0,\n",
       " 0.0,\n",
       " 0.0,\n",
       " 0.0,\n",
       " 24.0,\n",
       " 47.0,\n",
       " 24.0,\n",
       " 0.0,\n",
       " 24.0,\n",
       " 5.0,\n",
       " 12.0,\n",
       " 0.0,\n",
       " 0.0,\n",
       " 9.0,\n",
       " 0.0,\n",
       " 0.0,\n",
       " 50.0,\n",
       " 0.0,\n",
       " 47.0,\n",
       " 0.0,\n",
       " 4.0,\n",
       " 34.0,\n",
       " 45.0,\n",
       " 0.0,\n",
       " 0.0,\n",
       " 0.0,\n",
       " 40.0,\n",
       " 0.0,\n",
       " 0.0,\n",
       " 0.0,\n",
       " 0.0,\n",
       " 27.0,\n",
       " 0.0,\n",
       " 0.0,\n",
       " 0.0,\n",
       " 0.0,\n",
       " 24.0,\n",
       " 18.0,\n",
       " 0.0,\n",
       " 0.0,\n",
       " 19.0,\n",
       " 0.0,\n",
       " 0.0,\n",
       " 0.0,\n",
       " 0.0,\n",
       " 50.0,\n",
       " 0.0,\n",
       " 0.0,\n",
       " 6.0,\n",
       " 0.0,\n",
       " 22.0,\n",
       " 0.0,\n",
       " 0.0,\n",
       " 44.0,\n",
       " 2.0,\n",
       " 0.0,\n",
       " 0.0,\n",
       " 0.0,\n",
       " 0.0,\n",
       " 0.0,\n",
       " 0.0,\n",
       " 13.0,\n",
       " 24.0,\n",
       " 37.0,\n",
       " 0.0,\n",
       " 0.0,\n",
       " 12.0,\n",
       " 37.0,\n",
       " 18.0,\n",
       " 0.0,\n",
       " 48.0,\n",
       " 0.0]"
      ]
     },
     "execution_count": 175,
     "metadata": {},
     "output_type": "execute_result"
    }
   ],
   "source": [
    "sample = sampleset.first[0]\n",
    "\n",
    "# Number of decision variables\n",
    "num_decision_variables = n_assets\n",
    "\n",
    "# Reconstruct the original decision variables\n",
    "decision_variables = []\n",
    "for i in range(num_decision_variables):\n",
    "    decision_variables.append(sample[f'x_{i}'])\n",
    "\n",
    "decision_variables\n"
   ]
  },
  {
   "cell_type": "markdown",
   "metadata": {},
   "source": [
    "Calculating the total profit"
   ]
  },
  {
   "cell_type": "code",
   "execution_count": 176,
   "metadata": {},
   "outputs": [
    {
     "name": "stdout",
     "output_type": "stream",
     "text": [
      "4.114048384204688\n"
     ]
    }
   ],
   "source": [
    "# Multiply corresponding elements and sum them up\n",
    "total = sum(x * y for x, y in zip(expected_profits, decision_variables))\n",
    "\n",
    "print(total)"
   ]
  },
  {
   "cell_type": "markdown",
   "metadata": {},
   "source": [
    "Now let us test to see if all the constraints are satisfied"
   ]
  },
  {
   "cell_type": "code",
   "execution_count": 177,
   "metadata": {},
   "outputs": [
    {
     "name": "stdout",
     "output_type": "stream",
     "text": [
      "Risk Constraint Satisfied: True\n",
      "Risk Value: 99.99877061087295 <= 100\n",
      "Linking Constraints Satisfied: True\n",
      "Cardinality Constraint Satisfied: True\n",
      "Number of Assets Included: 50 <= 50\n",
      "Non-negativity Constraints Satisfied: True\n"
     ]
    }
   ],
   "source": [
    "# Extract y values from sample\n",
    "y_optimized = np.array([sample[f'y_{i}'] for i in range(n_assets)])\n",
    "\n",
    "# Convert decision_variables to a numpy array for easy manipulation\n",
    "x_optimized = np.array(decision_variables)\n",
    "\n",
    "# Now, checking the constraints with these values\n",
    "# Constraint 1: Risk constraint\n",
    "risk_value = np.sqrt(np.dot(np.dot(x_optimized.T, cov_matrix), x_optimized))\n",
    "print(f\"Risk Constraint Satisfied: {risk_value <= R}\")\n",
    "print(f\"Risk Value: {risk_value} <= {R}\")\n",
    "\n",
    "# Constraint 2: Linking constraint\n",
    "diversification_values = x_optimized <= D * y_optimized\n",
    "print(f\"Linking Constraints Satisfied: {all(diversification_values)}\")\n",
    "\n",
    "# Constraint 3: Cardinality constraint\n",
    "cardinality_value = (x_optimized > 0).sum()\n",
    "print(f\"Cardinality Constraint Satisfied: {cardinality_value <= K}\")\n",
    "print(f\"Number of Assets Included: {cardinality_value} <= {K}\")\n",
    "\n",
    "# Constraint 4: Non-negativity constraint\n",
    "non_negativity_satisfied = all(x_optimized >= 0)\n",
    "print(f\"Non-negativity Constraints Satisfied: {non_negativity_satisfied}\")\n"
   ]
  },
  {
   "cell_type": "markdown",
   "metadata": {},
   "source": [
    "Checking the assets to invest in"
   ]
  },
  {
   "cell_type": "code",
   "execution_count": 178,
   "metadata": {},
   "outputs": [
    {
     "name": "stdout",
     "output_type": "stream",
     "text": [
      "    Asset  Value\n",
      "0    AAPL   10.0\n",
      "1    ABBV   25.0\n",
      "2     ADI   20.0\n",
      "3     ADP   20.0\n",
      "4     AIZ   22.0\n",
      "5     AJG   49.0\n",
      "6    ALLE   28.0\n",
      "7    AMAT    1.0\n",
      "8     AME   23.0\n",
      "9    ANET    6.0\n",
      "10    AON   14.0\n",
      "11   AVGO   45.0\n",
      "12   BF-B    9.0\n",
      "13    BKR   17.0\n",
      "14    BSX   17.0\n",
      "15    BWA   17.0\n",
      "16    CAG   29.0\n",
      "17    CAT    1.0\n",
      "18   CBRE   23.0\n",
      "19   CDNS   19.0\n",
      "20   CHRW   20.0\n",
      "21    CLX   24.0\n",
      "22    CMA   47.0\n",
      "23  CMCSA   24.0\n",
      "24    CMG   24.0\n",
      "25    CMI    5.0\n",
      "26    CMS   12.0\n",
      "27    COF    9.0\n",
      "28   COST   50.0\n",
      "29    CPB   47.0\n",
      "30   CSCO    4.0\n",
      "31    CSX   34.0\n",
      "32   CTAS   45.0\n",
      "33    CVX   40.0\n",
      "34    DHI   27.0\n",
      "35    DRI   24.0\n",
      "36    DVA   18.0\n",
      "37     ED   19.0\n",
      "38     HD   50.0\n",
      "39    JPM    6.0\n",
      "40     KO   22.0\n",
      "41    MCD   44.0\n",
      "42     MO    2.0\n",
      "43     PG   13.0\n",
      "44   SCHW   24.0\n",
      "45    STZ   37.0\n",
      "46    UNH   12.0\n",
      "47      V   37.0\n",
      "48     VZ   18.0\n",
      "49    XOM   48.0\n"
     ]
    }
   ],
   "source": [
    "values_list = x_optimized.tolist()\n",
    "\n",
    "# Creating a new DataFrame with column names and values where values are > 0\n",
    "filtered_data = {'Asset': [], 'Value': []}\n",
    "for column_name, value in zip(df.columns, values_list):\n",
    "    if value > 0:\n",
    "        filtered_data['Asset'].append(column_name)\n",
    "        filtered_data['Value'].append(value)\n",
    "\n",
    "new_df = pd.DataFrame(filtered_data)\n",
    "\n",
    "print(new_df)"
   ]
  },
  {
   "cell_type": "markdown",
   "metadata": {},
   "source": [
    "Converting the dataframe into an excel"
   ]
  },
  {
   "cell_type": "code",
   "execution_count": 179,
   "metadata": {},
   "outputs": [],
   "source": [
    "# new_df.to_excel(\"DF1.xlsx\")"
   ]
  },
  {
   "cell_type": "markdown",
   "metadata": {},
   "source": [
    "Saving the Results"
   ]
  },
  {
   "cell_type": "code",
   "execution_count": 497,
   "metadata": {},
   "outputs": [],
   "source": [
    "# B = [time_taken, risk_value, R, total]\n",
    "# A.append(B)\n",
    "\n",
    "# # Create a DataFrame with the specified column names\n",
    "# df = pd.DataFrame(A, columns=['time_taken', 'risk_value', 'R', 'total'])\n",
    "\n",
    "# df.to_excel(\"Quantum_Results.xlsx\")"
   ]
  },
  {
   "cell_type": "markdown",
   "metadata": {},
   "source": [
    "Looping it all"
   ]
  },
  {
   "cell_type": "code",
   "execution_count": 194,
   "metadata": {},
   "outputs": [],
   "source": [
    "# Maximum acceptable risk (R): The total risk that the portfolio can assume, based on variance-covariance matrix\n",
    "Variance_Values = [10,20,30,40,50,60,70,80,90,100]"
   ]
  },
  {
   "cell_type": "code",
   "execution_count": 195,
   "metadata": {},
   "outputs": [
    {
     "name": "stdout",
     "output_type": "stream",
     "text": [
      "10\n",
      "20\n",
      "30\n",
      "40\n",
      "50\n",
      "60\n",
      "70\n",
      "80\n",
      "90\n",
      "100\n"
     ]
    }
   ],
   "source": [
    "results_list = []  # Initialize the list\n",
    "\n",
    "for R in Variance_Values:\n",
    "\n",
    "    \n",
    "    # Check the variance value\n",
    "    print(R)\n",
    "\n",
    "    # Create the CQM Object\n",
    "    cqm = ConstrainedQuadraticModel()\n",
    "\n",
    "    #Adding the objective function\n",
    "    cqm.set_objective(H_obj)\n",
    "\n",
    "    #Adding the risk constraint \n",
    "    cqm.add_constraint_from_model(total_variance, '<=', R**2, \"Variance\", weight=1)\n",
    "\n",
    "    # Diversification Constraints\n",
    "    for i in range(n_assets):\n",
    "        cqm.add_constraint_from_model(X[i] - D*y[i], '<=', 0, label=f\"Linking_{i}\", weight=1)\n",
    "\n",
    "    #Adding the cardinality constraint\n",
    "    cqm.add_constraint_from_model(sum(y), '<=', K, label=f\"Cardinality\", weight=1)\n",
    "\n",
    "    # Time the sampler\n",
    "    start_time = time.time()\n",
    "    sampleset = sampler.sample_cqm(cqm)\n",
    "    time_taken = time.time() - start_time\n",
    "\n",
    "\n",
    "    #Checking for violations\n",
    "    for label, violation in cqm.iter_violations(sampleset.first[0], skip_satisfied=True):\n",
    "        print(label, violation)\n",
    "\n",
    "\n",
    "    #Recreating the original variables\n",
    "    sample = sampleset.first[0]\n",
    "\n",
    "    # Number of decision variables\n",
    "    num_decision_variables = n_assets\n",
    "\n",
    "    # Reconstruct the original decision variables\n",
    "    decision_variables = []\n",
    "    for i in range(num_decision_variables):\n",
    "        decision_variables.append(sample[f'x_{i}'])\n",
    "\n",
    "\n",
    "    #Calculating the total profit\n",
    "    # Multiply corresponding elements and sum them up\n",
    "    total = sum(x * y for x, y in zip(expected_profits, decision_variables))\n",
    "\n",
    "\n",
    "    # Checking the constraints\n",
    "    # Extract y values from sample\n",
    "    y_optimized = np.array([sample[f'y_{i}'] for i in range(n_assets)])\n",
    "\n",
    "    # Convert decision_variables to a numpy array for easy manipulation\n",
    "    x_optimized = np.array(decision_variables)\n",
    "\n",
    "    # Constraint 1: Risk constraint\n",
    "    risk_value = np.sqrt(np.dot(np.dot(x_optimized.T, cov_matrix), x_optimized))\n",
    "\n",
    "    # Constraint 2: Linking constraint\n",
    "    diversification_values = x_optimized <= D * y_optimized\n",
    "\n",
    "    \n",
    "    # Constraint 3: Cardinality constraint\n",
    "    cardinality_value = (x_optimized > 0).sum()\n",
    "\n",
    "\n",
    "    # Constraint 4: Non-negativity constraint\n",
    "    non_negativity_satisfied = all(x_optimized >= 0)\n",
    "\n",
    "    \n",
    "    #Creating the asset dataframe\n",
    "    values_list = x_optimized.tolist()\n",
    "\n",
    "    # Creating a new DataFrame with column names and values where values are > 0\n",
    "    filtered_data = {'Asset': [], 'Value': []}\n",
    "    for column_name, value in zip(df.columns, values_list):\n",
    "        if value > 0:\n",
    "            filtered_data['Asset'].append(column_name)\n",
    "            filtered_data['Value'].append(value)\n",
    "\n",
    "    # Create a dictionary for the current iteration\n",
    "    iteration_results = {\n",
    "        'time_taken': time_taken,\n",
    "        'risk_value': risk_value,\n",
    "        'R': R,\n",
    "        'total_profit': total,\n",
    "        'risk_constraint_satisfied': risk_value <= R,\n",
    "        'linking_constraints_satisfied': all(diversification_values),\n",
    "        'cardinality_constraint_satisfied': cardinality_value <= K,\n",
    "        'non_negativity_satisfied': non_negativity_satisfied,\n",
    "        'cardinality_value': cardinality_value,\n",
    "        'assets_included_df': filtered_data\n",
    "    }\n",
    "\n",
    "    # Step 4: Append this dictionary to the list\n",
    "    results_list.append(iteration_results)"
   ]
  },
  {
   "cell_type": "markdown",
   "metadata": {},
   "source": [
    "Creating a dataframe of results"
   ]
  },
  {
   "cell_type": "code",
   "execution_count": 197,
   "metadata": {},
   "outputs": [],
   "source": [
    "# Creating a DataFrame from results_list for specific metrics\n",
    "metrics_columns = [\n",
    "    'time_taken',\n",
    "    'risk_value',\n",
    "    'R',\n",
    "    'total_profit',\n",
    "    'risk_constraint_satisfied',\n",
    "    'linking_constraints_satisfied',\n",
    "    'cardinality_constraint_satisfied',\n",
    "    'non_negativity_satisfied',\n",
    "    'cardinality_value'\n",
    "]\n",
    "\n",
    "# Use a list comprehension to pick out these specific keys from each dictionary in the results list\n",
    "final_results_data = [{col: result[col] for col in metrics_columns} for result in results_list]\n",
    "\n",
    "# Convert this list of dictionaries to a DataFrame\n",
    "final_results_df = pd.DataFrame(final_results_data)\n",
    "\n",
    "# Save the DataFrame as an Excel file\n",
    "final_results_df.to_excel('Final_Results.xlsx', index=False)\n"
   ]
  },
  {
   "cell_type": "markdown",
   "metadata": {},
   "source": [
    "Creating the excels of Asset Allocations"
   ]
  },
  {
   "cell_type": "code",
   "execution_count": 198,
   "metadata": {},
   "outputs": [],
   "source": [
    "for i, result in enumerate(results_list, start=1):\n",
    "    # Convert filtered_data (which replaced new_df) to a DataFrame\n",
    "    assets_df = pd.DataFrame(result['assets_included_df'])\n",
    "    \n",
    "    # Save the DataFrame as an Excel file\n",
    "    file_name = f'Assets{i}.xlsx'\n",
    "    assets_df.to_excel(file_name, index=False)"
   ]
  }
 ],
 "metadata": {
  "kernelspec": {
   "display_name": "venv",
   "language": "python",
   "name": "python3"
  },
  "language_info": {
   "codemirror_mode": {
    "name": "ipython",
    "version": 3
   },
   "file_extension": ".py",
   "mimetype": "text/x-python",
   "name": "python",
   "nbconvert_exporter": "python",
   "pygments_lexer": "ipython3",
   "version": "3.9.10"
  }
 },
 "nbformat": 4,
 "nbformat_minor": 2
}
