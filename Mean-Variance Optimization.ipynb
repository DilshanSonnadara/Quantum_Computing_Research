{
 "cells": [
  {
   "cell_type": "markdown",
   "id": "8fca0fba",
   "metadata": {},
   "source": [
    "Import the libraries"
   ]
  },
  {
   "cell_type": "code",
   "execution_count": 84,
   "id": "cd74725b",
   "metadata": {},
   "outputs": [],
   "source": [
    "import numpy as np\n",
    "import pandas as pd \n",
    "\n",
    "# For portfolio optimization\n",
    "from scipy.optimize import minimize \n",
    "import plotly.graph_objs as go"
   ]
  },
  {
   "cell_type": "markdown",
   "id": "cc66c058",
   "metadata": {},
   "source": [
    "Reading Finance Data"
   ]
  },
  {
   "cell_type": "code",
   "execution_count": 85,
   "id": "c1d6ddf5",
   "metadata": {},
   "outputs": [],
   "source": [
    "# import the data from  local file\n",
    "stock_data=pd.read_excel('Daily_Returns.xlsx')\n",
    "\n",
    "# Convert the 'date' column to datetime format \n",
    "stock_data['Date'] = pd.to_datetime(stock_data['Date'])\n",
    "\n",
    "# Set the 'date' column as the index\n",
    "stock_data.set_index('Date', inplace=True)"
   ]
  },
  {
   "cell_type": "markdown",
   "id": "508c1cd2",
   "metadata": {},
   "source": [
    "IMP Functions for Portfolio Construction"
   ]
  },
  {
   "cell_type": "code",
   "execution_count": 86,
   "id": "b7a5cd8b",
   "metadata": {},
   "outputs": [],
   "source": [
    "# get the names of the stocks\n",
    "def get_stock_names(df):\n",
    "    stock_names = df.columns[0:].tolist()\n",
    "    return stock_names\n",
    "\n",
    "names = get_stock_names(stock_data)"
   ]
  },
  {
   "cell_type": "code",
   "execution_count": 87,
   "id": "b410ab34",
   "metadata": {},
   "outputs": [],
   "source": [
    "# getting covarince matrix for portfolios\n",
    "\n",
    "def get_cov_matrix(df):\n",
    "    # Calculate the covariance matrix for each stock\n",
    "    cov_matrix = df.cov()\n",
    "    \n",
    "    return cov_matrix\n",
    "\n",
    "# calling the function\n",
    "cov_matrix = get_cov_matrix(stock_data)"
   ]
  },
  {
   "cell_type": "code",
   "execution_count": 88,
   "id": "022db03c",
   "metadata": {},
   "outputs": [],
   "source": [
    "# getting ER of the portfolio\n",
    "\n",
    "def get_expected_returns(df):\n",
    "    \n",
    "    # Calculate the mean return for each stock\n",
    "    expected_returns = df.mean()\n",
    "    \n",
    "    return expected_returns\n",
    "\n",
    "expected_returns = get_expected_returns(stock_data)"
   ]
  },
  {
   "cell_type": "code",
   "execution_count": 89,
   "id": "a55167cc",
   "metadata": {},
   "outputs": [],
   "source": [
    "#getting the correlation matrix\n",
    "def get_cor_matrix(df):\n",
    "    # Calculate the correlation matrix for each stock\n",
    "    cor_matrix = df.corr()\n",
    "    \n",
    "    return cor_matrix\n",
    "\n",
    "cor_matrix=get_cor_matrix(stock_data)\n"
   ]
  },
  {
   "cell_type": "markdown",
   "id": "988f003a",
   "metadata": {},
   "source": [
    "Optimally Weighted Portfolios"
   ]
  },
  {
   "cell_type": "markdown",
   "id": "ba34b858",
   "metadata": {},
   "source": [
    "- To generate optimally weighted portfolis, we use `Mean Variance Optimization`.\n",
    "- The `SLSQP` algorithm (Sequential Least Squares Programming) allows us to minimize a function with several variables and constraints.\n",
    "- We are minimizing the negative expected return s.t. 3 constraints are satisfied;\n",
    "    - Sum of weights should be one\n",
    "    - Weights should not be negative\n",
    "    - Risk should be below some tolerance level"
   ]
  },
  {
   "cell_type": "code",
   "execution_count": 90,
   "id": "7e1bb4f3",
   "metadata": {},
   "outputs": [],
   "source": [
    "number_of_stocks = len(names)\n",
    "\n",
    "# generatig weights\n",
    "initial_weights = [1/number_of_stocks] * number_of_stocks\n",
    "\n",
    "constraints = ({'type': 'eq', 'fun': lambda wt: np.sum(wt) - 1}, # sum of weights to be 1\n",
    "               {'type': 'ineq', 'fun': lambda wt: wt}, # weight should be positive\n",
    "               {'type': 'ineq', 'fun': lambda wt: 0.1 - np.sqrt(np.dot(wt, np.dot(cov_matrix, wt.T)))}) # risk constraint\n",
    "\n",
    "algorithm = 'SLSQP'  #Sequential Least Squares Programming\n",
    "\n",
    "# defining objective to optimise\n",
    "def objective(wt, expected_returns):\n",
    "    return -np.sum(wt * expected_returns)  # maximize return\n",
    "\n",
    "# generating weights\n",
    "def get_weights(expected_returns, cov_matrix, initial_weights=initial_weights, \n",
    "                algorithm=algorithm,constraints=constraints):\n",
    "    \n",
    "    result = minimize(objective,\n",
    "                        initial_weights,\n",
    "                        args=(expected_returns),\n",
    "                        method=algorithm,\n",
    "                        constraints=constraints)\n",
    "    \n",
    "    return result"
   ]
  },
  {
   "cell_type": "code",
   "execution_count": 91,
   "id": "23063e80",
   "metadata": {},
   "outputs": [],
   "source": [
    "# calling the function\n",
    "weights= get_weights(expected_returns,cov_matrix)"
   ]
  },
  {
   "cell_type": "markdown",
   "id": "89bce6de",
   "metadata": {},
   "source": [
    "Checking the risk constraint"
   ]
  },
  {
   "cell_type": "code",
   "execution_count": 93,
   "id": "d6a73767",
   "metadata": {},
   "outputs": [
    {
     "name": "stdout",
     "output_type": "stream",
     "text": [
      "0.018169128037068275\n"
     ]
    }
   ],
   "source": [
    "Risk = np.sqrt(np.dot(weights.x,np.dot(weights.x,cov_matrix.to_numpy())))\n",
    "print(Risk)"
   ]
  },
  {
   "cell_type": "code",
   "execution_count": 95,
   "id": "afb60b4b",
   "metadata": {},
   "outputs": [],
   "source": [
    "# map weights to stock names\n",
    "\n",
    "def map_weights_to_names(optimized_weights, names):\n",
    "    weights_dict = dict(zip(names, optimized_weights))\n",
    "    \n",
    "    # Filter out stocks with weights greater than 0\n",
    "    selected_stocks = {stock: weight for stock, weight in weights_dict.items() if weight > 0}\n",
    "    \n",
    "    return selected_stocks\n",
    "\n",
    "# function call\n",
    "optimized_weights = weights.x\n",
    "\n",
    "selected_stocks = map_weights_to_names(optimized_weights, names)"
   ]
  },
  {
   "cell_type": "markdown",
   "id": "1223c7c8",
   "metadata": {},
   "source": [
    "Checking whether weights sum upto 1"
   ]
  },
  {
   "cell_type": "code",
   "execution_count": 94,
   "id": "e80a1f51",
   "metadata": {},
   "outputs": [
    {
     "name": "stdout",
     "output_type": "stream",
     "text": [
      "Total weight: 0.9999999999999993\n"
     ]
    }
   ],
   "source": [
    "# Calculate the sum of all weights\n",
    "total_weight = sum(weights.x)\n",
    "\n",
    "print(\"Total weight:\", total_weight)"
   ]
  },
  {
   "cell_type": "markdown",
   "id": "7dd6de0e",
   "metadata": {},
   "source": [
    "Looping it all"
   ]
  },
  {
   "cell_type": "markdown",
   "id": "f189a9a4",
   "metadata": {},
   "source": []
  }
 ],
 "metadata": {
  "kernelspec": {
   "display_name": "Python 3",
   "language": "python",
   "name": "python3"
  },
  "language_info": {
   "codemirror_mode": {
    "name": "ipython",
    "version": 3
   },
   "file_extension": ".py",
   "mimetype": "text/x-python",
   "name": "python",
   "nbconvert_exporter": "python",
   "pygments_lexer": "ipython3",
   "version": "3.9.10"
  }
 },
 "nbformat": 4,
 "nbformat_minor": 5
}
