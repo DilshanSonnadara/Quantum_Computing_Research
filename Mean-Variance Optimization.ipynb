{
 "cells": [
  {
   "cell_type": "markdown",
   "id": "8fca0fba",
   "metadata": {},
   "source": [
    "Import the libraries"
   ]
  },
  {
   "cell_type": "code",
   "execution_count": 2,
   "id": "cd74725b",
   "metadata": {},
   "outputs": [],
   "source": [
    "import numpy as np\n",
    "import pandas as pd \n",
    "\n",
    "# For portfolio optimization\n",
    "from scipy.optimize import minimize \n",
    "import plotly.graph_objs as go"
   ]
  },
  {
   "cell_type": "markdown",
   "id": "cc66c058",
   "metadata": {},
   "source": [
    "### 1. Reading Finance Data"
   ]
  },
  {
   "cell_type": "code",
   "execution_count": 3,
   "id": "c1d6ddf5",
   "metadata": {},
   "outputs": [],
   "source": [
    "# import the data from  local file\n",
    "stock_data=pd.read_excel('Daily_Returns.xlsx')\n",
    "\n",
    "# Convert the 'date' column to datetime format \n",
    "stock_data['Date'] = pd.to_datetime(stock_data['Date'])\n",
    "\n",
    "# Set the 'date' column as the index\n",
    "stock_data.set_index('Date', inplace=True)"
   ]
  },
  {
   "cell_type": "markdown",
   "id": "508c1cd2",
   "metadata": {},
   "source": [
    "### 2. IMP Functions for Portfolio Construction"
   ]
  },
  {
   "cell_type": "code",
   "execution_count": 5,
   "id": "b7a5cd8b",
   "metadata": {},
   "outputs": [],
   "source": [
    "# get the names of the stocks\n",
    "def get_stock_names(df):\n",
    "    stock_names = df.columns[0:].tolist()\n",
    "    return stock_names\n",
    "\n",
    "names = get_stock_names(stock_data)"
   ]
  },
  {
   "cell_type": "code",
   "execution_count": 6,
   "id": "b410ab34",
   "metadata": {},
   "outputs": [],
   "source": [
    "# getting covarince matrix for portfolios\n",
    "\n",
    "def get_cov_matrix(df):\n",
    "    # Calculate the covariance matrix for each stock\n",
    "    cov_matrix = df.cov()\n",
    "    \n",
    "    return cov_matrix\n",
    "\n",
    "# calling the function\n",
    "cov_matrix = get_cov_matrix(stock_data)"
   ]
  },
  {
   "cell_type": "code",
   "execution_count": 7,
   "id": "022db03c",
   "metadata": {},
   "outputs": [],
   "source": [
    "# getting ER of the portfolio\n",
    "\n",
    "def get_expected_returns(df):\n",
    "    \n",
    "    # Calculate the mean return for each stock\n",
    "    expected_returns = df.mean()\n",
    "    \n",
    "    return expected_returns\n",
    "\n",
    "expected_returns = get_expected_returns(stock_data)"
   ]
  },
  {
   "cell_type": "code",
   "execution_count": 8,
   "id": "a55167cc",
   "metadata": {},
   "outputs": [],
   "source": [
    "#getting the correlation matrix\n",
    "def get_cor_matrix(df):\n",
    "    # Calculate the correlation matrix for each stock\n",
    "    cor_matrix = df.corr()\n",
    "    \n",
    "    return cor_matrix\n",
    "\n",
    "cor_matrix=get_cor_matrix(stock_data)\n"
   ]
  },
  {
   "cell_type": "markdown",
   "id": "988f003a",
   "metadata": {},
   "source": [
    "### 3. Optimally Weighted Portfolios"
   ]
  },
  {
   "cell_type": "markdown",
   "id": "ba34b858",
   "metadata": {},
   "source": [
    "- To generate optimally weighted portfolis, we use `Mean Variance Optimization`.\n",
    "- The `SLSQP` algorithm (Sequential Least Squares Programming) allows us to minimize a function with several variables and constraints.\n",
    "- We are minimizing the negative sharpe ratio s.t. 3 constraints as;\n",
    "    - Sum of weights should be one\n",
    "    - Weights should not be negative\n",
    "    - Weights should be between 0 - 0.5 to allow diversification."
   ]
  },
  {
   "cell_type": "code",
   "execution_count": 11,
   "id": "7e1bb4f3",
   "metadata": {},
   "outputs": [],
   "source": [
    "number_of_stocks = len(names)\n",
    "risk_free_rate = ((1+0.03) ** (1/252)) - 1 #conversion into daily RF\n",
    "\n",
    "# Assuming you have defined expected_returns, cov_matrix, number_of_stocks, and names earlier\n",
    "\n",
    "# generatig weights\n",
    "initial_weights = [1/number_of_stocks] * number_of_stocks\n",
    "\n",
    "constraints = ({'type': 'eq', 'fun': lambda wt: np.sum(wt) - 1}, # sum of weights to be 1\n",
    "               {'type': 'ineq', 'fun': lambda wt: wt}, # weight should be positive\n",
    "               {'type': 'ineq', 'fun': lambda wt: 0.1 - np.sqrt(np.dot(wt, np.dot(cov_matrix, wt.T)))}) # risk constraint\n",
    "\n",
    "bounds = tuple((0, 0.5) for _ in range(number_of_stocks)) # upper bound is set as 0.5 to facilitate diversification.\n",
    "algorithm = 'SLSQP'  #Sequential Least Squares Programming\n",
    "\n",
    "# defining objective to optimise\n",
    "def objective(wt, expected_returns):\n",
    "    return -np.sum(wt * expected_returns)  # maximize return\n",
    "\n",
    "# generating weights\n",
    "def get_weights(expected_returns, cov_matrix, initial_weights=initial_weights, \n",
    "                algorithm=algorithm,bounds=bounds,constraints=constraints):\n",
    "    \n",
    "    result = minimize(objective,\n",
    "                        initial_weights,\n",
    "                        args=(expected_returns),\n",
    "                        method=algorithm,\n",
    "                        bounds=bounds,\n",
    "                        constraints=constraints)\n",
    "    \n",
    "    return result"
   ]
  },
  {
   "cell_type": "code",
   "execution_count": 12,
   "id": "23063e80",
   "metadata": {},
   "outputs": [],
   "source": [
    "# calling the function\n",
    "weights= get_weights(expected_returns,cov_matrix)"
   ]
  },
  {
   "cell_type": "code",
   "execution_count": 13,
   "id": "afb60b4b",
   "metadata": {},
   "outputs": [],
   "source": [
    "# map weights to stock names\n",
    "\n",
    "def map_weights_to_names(optimized_weights, names):\n",
    "    weights_dict = dict(zip(names, optimized_weights))\n",
    "    \n",
    "    # Filter out stocks with weights greater than 0\n",
    "    selected_stocks = {stock: weight for stock, weight in weights_dict.items() if weight > 0}\n",
    "    \n",
    "    return selected_stocks\n",
    "\n",
    "# function call\n",
    "optimized_weights = weights.x\n",
    "\n",
    "selected_stocks = map_weights_to_names(optimized_weights, names)"
   ]
  },
  {
   "cell_type": "code",
   "execution_count": 14,
   "id": "856f1041",
   "metadata": {},
   "outputs": [
    {
     "name": "stdout",
     "output_type": "stream",
     "text": [
      "CF : 0.5\n",
      "V : 0.5\n",
      "GOOG : 1.7763568394002505e-15\n",
      "ALLE : 4.448422220010367e-17\n",
      "CB : 4.048715241210912e-17\n",
      "ADP : 4.01512666322222e-17\n",
      "ADBE : 3.264593770645907e-17\n",
      "AFL : 3.005467477800077e-17\n",
      "AKAM : 2.837527952623305e-17\n",
      "ALGN : 2.6809408493099126e-17\n"
     ]
    }
   ],
   "source": [
    "# Sort the dictionary by weights\n",
    "sorted_stocks = {k: v for k, v in sorted(selected_stocks.items(), key=lambda item: item[1], reverse=True)}\n",
    "\n",
    "# Print only the top 10 stocks\n",
    "count = 0\n",
    "for stock, weight in sorted_stocks.items():\n",
    "    print(stock, \":\", weight)\n",
    "    count += 1\n",
    "    if count == 10:\n",
    "        break"
   ]
  },
  {
   "cell_type": "code",
   "execution_count": 15,
   "id": "e80a1f51",
   "metadata": {},
   "outputs": [
    {
     "name": "stdout",
     "output_type": "stream",
     "text": [
      "Total weight: 1.0000000000000018\n"
     ]
    }
   ],
   "source": [
    "# Calculate the sum of all weights\n",
    "total_weight = sum(sorted_stocks.values())\n",
    "\n",
    "print(\"Total weight:\", total_weight)"
   ]
  },
  {
   "cell_type": "code",
   "execution_count": 16,
   "id": "a69fb6bb",
   "metadata": {},
   "outputs": [
    {
     "name": "stdout",
     "output_type": "stream",
     "text": [
      "26\n",
      "26\n"
     ]
    }
   ],
   "source": [
    "# get the list of stocks\n",
    "stock_names=list(sorted_stocks.keys())\n",
    "print(len(stock_names))\n",
    "# get the list of corrosponding weights\n",
    "stock_weights=list(sorted_stocks.values())\n",
    "print(len(stock_weights))\n",
    "\n",
    "# portfolio with selected stocks\n",
    "df_selected = stock_data[['Date'] + stock_names]"
   ]
  },
  {
   "cell_type": "code",
   "execution_count": 17,
   "id": "3fc20620",
   "metadata": {},
   "outputs": [
    {
     "name": "stdout",
     "output_type": "stream",
     "text": [
      "Expected return of the portfolio: 0.03698236433407959\n"
     ]
    }
   ],
   "source": [
    "# Calculate the expected return of the portfolio\n",
    "\n",
    "ER = get_expected_returns(df_selected)\n",
    "\n",
    "portfolio_expected_return = np.dot(ER, stock_weights)\n",
    "\n",
    "# Print the expected return of the portfolio\n",
    "print(\"Expected return of the portfolio:\", portfolio_expected_return)"
   ]
  },
  {
   "cell_type": "code",
   "execution_count": 18,
   "id": "3a19dcad",
   "metadata": {},
   "outputs": [],
   "source": [
    "# get a weighted portfolio\n",
    "\n",
    "# Extract the 'Date' column\n",
    "dates = df_selected['Date']\n",
    "\n",
    "# Multiply each stock's return by its corresponding weight\n",
    "weighted_returns = df_selected.drop(columns=['Date']).mul(stock_weights)\n",
    "\n",
    "# Create a new DataFrame with the weighted returns and the 'Date' column\n",
    "weighted_df = pd.concat([dates, weighted_returns], axis=1)"
   ]
  },
  {
   "cell_type": "code",
   "execution_count": 19,
   "id": "47d423b1",
   "metadata": {},
   "outputs": [
    {
     "name": "stdout",
     "output_type": "stream",
     "text": [
      "SD of the portfolio: 0.027319618546578783\n"
     ]
    }
   ],
   "source": [
    "# calling the function\n",
    "cov_matrix_weighted = get_cov_matrix(weighted_df)\n",
    "\n",
    "# get the SD\n",
    "stock_weights_array = np.array(stock_weights)\n",
    "portfolio_stddev = np.sqrt(np.dot(stock_weights_array, np.dot(cov_matrix_weighted, stock_weights_array.T)))\n",
    "\n",
    "# Print the SD of the portfolio\n",
    "print(\"SD of the portfolio:\", portfolio_stddev)"
   ]
  },
  {
   "cell_type": "code",
   "execution_count": 20,
   "id": "53ba9b81",
   "metadata": {},
   "outputs": [
    {
     "name": "stdout",
     "output_type": "stream",
     "text": [
      "Sharpe Ratio under Traditioanl Method: 1.3493988050159553\n"
     ]
    }
   ],
   "source": [
    "# Classical Approach\n",
    "print(\"Sharpe Ratio under Traditioanl Method:\" , ((portfolio_expected_return-risk_free_rate) / portfolio_stddev))\n",
    "# QC Approach\n",
    "# print(\"Sharpe Ratio under QC approach:\" , ((0.2430-risk_free_rate) / 0.2993))"
   ]
  },
  {
   "cell_type": "markdown",
   "id": "5bc4e874",
   "metadata": {},
   "source": [
    "### Efficient Frontier"
   ]
  },
  {
   "cell_type": "code",
   "execution_count": 21,
   "id": "617b1190",
   "metadata": {},
   "outputs": [],
   "source": [
    "# mu = get_expected_returns(df_selected)\n",
    "# S = get_cov_matrix(df_selected)\n",
    "\n",
    "# n_samples = 10000\n",
    "# np.random.seed(42)\n",
    "# w = np.random.dirichlet(np.ones(len(mu)), n_samples)\n",
    "# rets = w.dot(mu)\n",
    "# stds = np.sqrt((w.T * (S @ w.T)).sum(axis=0))\n",
    "# sharpes = rets / stds"
   ]
  },
  {
   "cell_type": "code",
   "execution_count": 22,
   "id": "2d65d351",
   "metadata": {},
   "outputs": [],
   "source": [
    "# # Create scatter plot\n",
    "# trace = go.Scatter(\n",
    "#     x=stds,\n",
    "#     y=rets,\n",
    "#     mode='markers',\n",
    "#     marker=dict(\n",
    "#         size=8,\n",
    "#         color=sharpes,  # Color based on Sharpe ratio\n",
    "#         colorscale='Viridis', \n",
    "#         showscale=True\n",
    "#     ),\n",
    "#     text=['Sharpe Ratio: {:.2f}'.format(sh) for sh in sharpes],\n",
    "#     name='combinations'\n",
    "# )\n",
    "\n",
    "# # Add marker for specific point\n",
    "# optimized_return = go.Scatter(\n",
    "#     x=[portfolio_expected_return],\n",
    "#     y=[portfolio_stddev],\n",
    "#     mode='markers',\n",
    "#     marker=dict(\n",
    "#         size=10,\n",
    "#         color='red',  # Marker color\n",
    "#         symbol='star'  # Marker symbol\n",
    "#     ),\n",
    "#     name='optimized')\n",
    "\n",
    "# # Layout\n",
    "# layout = go.Layout(\n",
    "#     title='Portfolio Returns vs. Risk',\n",
    "#     xaxis=dict(title='Risk'),\n",
    "#     yaxis=dict(title='Returns'),\n",
    "#     hovermode='closest'\n",
    "# )\n",
    "\n",
    "# fig = go.Figure(data=[trace, optimized_return], layout=layout)\n",
    "\n",
    "# # Plot figure\n",
    "# fig.show()"
   ]
  }
 ],
 "metadata": {
  "kernelspec": {
   "display_name": "Python 3",
   "language": "python",
   "name": "python3"
  },
  "language_info": {
   "codemirror_mode": {
    "name": "ipython",
    "version": 3
   },
   "file_extension": ".py",
   "mimetype": "text/x-python",
   "name": "python",
   "nbconvert_exporter": "python",
   "pygments_lexer": "ipython3",
   "version": "3.9.10"
  }
 },
 "nbformat": 4,
 "nbformat_minor": 5
}
