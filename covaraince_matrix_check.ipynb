{
 "cells": [
  {
   "cell_type": "markdown",
   "metadata": {},
   "source": [
    "This code will be used to check if the covariance matrix is positive semi definite and symmetric"
   ]
  },
  {
   "cell_type": "code",
   "execution_count": 1,
   "metadata": {},
   "outputs": [],
   "source": [
    "import numpy as np\n",
    "import seaborn as sns\n",
    "import pandas as pd\n",
    "\n",
    "import matplotlib.pyplot as plt"
   ]
  },
  {
   "cell_type": "code",
   "execution_count": 2,
   "metadata": {},
   "outputs": [],
   "source": [
    "df = pd.read_excel(\"Daily_Returns.xlsx\")\n",
    "\n",
    "# Convert the 'date' column to datetime format \n",
    "df['Date'] = pd.to_datetime(df['Date'])\n",
    "\n",
    "# Set the 'date' column as the index\n",
    "df.set_index('Date', inplace=True)"
   ]
  },
  {
   "cell_type": "code",
   "execution_count": 3,
   "metadata": {},
   "outputs": [],
   "source": [
    "# Calculate average return for each stock. \n",
    "expected_returns = np.mean(df,axis=0)\n",
    "\n",
    "# Calculate the variance-covariance matrix\n",
    "cov_matrix = df.cov()\n",
    "\n",
    "cov_array = cov_matrix.values"
   ]
  },
  {
   "cell_type": "markdown",
   "metadata": {},
   "source": [
    "#### Chekcing if the covariance matrix is positive semi definet and  symmetric "
   ]
  },
  {
   "cell_type": "code",
   "execution_count": 4,
   "metadata": {},
   "outputs": [],
   "source": [
    "def covariance_test(cov_matrix, col_matrix_range):\n",
    "    \n",
    "    a = np.random.choice(col_matrix_range, cov_matrix.shape[-1])\n",
    "    eigvalues, eigvectors = np.linalg.eig(cov_matrix)\n",
    "    \n",
    "    results = {\n",
    "        \"Positive Definite\": False,\n",
    "        \"Positive Semi-Definite\": False,\n",
    "        \"Symmetric\": False,\n",
    "        \"Positive Determinant\": False,\n",
    "        \"Eigen Values, Positivity\": False\n",
    "    }\n",
    "    \n",
    "    if(a.T @ cov_matrix @ a > 0):\n",
    "        results[\"Positive Definite\"] = True\n",
    "    if((a.T @ cov_matrix @ a == 0) or (a.T @ cov_matrix @ a > 0)):\n",
    "        results[\"Positive Semi-Definite\"] = True\n",
    "    if(np.all(cov_matrix == cov_matrix.T)):\n",
    "        results[\"Symmetric\"] = True\n",
    "    if(np.linalg.det(cov_matrix) >= 0):\n",
    "        results[\"Positive Determinant\"] = True\n",
    "    if(-1 not in np.sign(eigvalues)):\n",
    "        results[\"Eigen Values, Positivity\"] = True\n",
    "        \n",
    "    return results\n",
    "\n",
    "\n",
    "def print_results(result):\n",
    "    for key, value in result.items():\n",
    "        status = \"Passed\" if value else \"Failed\"\n",
    "        print(f'{key}: {status}')"
   ]
  },
  {
   "cell_type": "code",
   "execution_count": 5,
   "metadata": {},
   "outputs": [],
   "source": [
    "eigvalues, eigvectors = np.linalg.eig(cov_matrix)"
   ]
  },
  {
   "cell_type": "code",
   "execution_count": 7,
   "metadata": {},
   "outputs": [
    {
     "name": "stdout",
     "output_type": "stream",
     "text": [
      "Positive Definite: Passed\n",
      "Positive Semi-Definite: Passed\n",
      "Symmetric: Passed\n",
      "Positive Determinant: Passed\n",
      "Eigen Values, Positivity: Passed\n"
     ]
    }
   ],
   "source": [
    "results = covariance_test(cov_array, (4, 0))\n",
    "print_results(results)"
   ]
  }
 ],
 "metadata": {
  "kernelspec": {
   "display_name": "base",
   "language": "python",
   "name": "python3"
  },
  "language_info": {
   "codemirror_mode": {
    "name": "ipython",
    "version": 3
   },
   "file_extension": ".py",
   "mimetype": "text/x-python",
   "name": "python",
   "nbconvert_exporter": "python",
   "pygments_lexer": "ipython3",
   "version": "3.9.10"
  }
 },
 "nbformat": 4,
 "nbformat_minor": 2
}
