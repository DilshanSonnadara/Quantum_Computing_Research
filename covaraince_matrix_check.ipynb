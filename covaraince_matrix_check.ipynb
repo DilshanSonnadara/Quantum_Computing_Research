{
 "cells": [
  {
   "cell_type": "code",
   "execution_count": 21,
   "metadata": {},
   "outputs": [],
   "source": [
    "import numpy as np\n",
    "import seaborn as sns\n",
    "import pandas as pd\n",
    "\n",
    "import matplotlib.pyplot as plt"
   ]
  },
  {
   "cell_type": "code",
   "execution_count": 22,
   "metadata": {},
   "outputs": [],
   "source": [
    "df = pd.read_excel(\"Daily_Returns.xlsx\")"
   ]
  },
  {
   "cell_type": "code",
   "execution_count": 23,
   "metadata": {},
   "outputs": [],
   "source": [
    "# Convert the 'date' column to datetime format \n",
    "df['Date'] = pd.to_datetime(df['Date'])\n",
    "\n",
    "# Set the 'date' column as the index\n",
    "df.set_index('Date', inplace=True)"
   ]
  },
  {
   "cell_type": "code",
   "execution_count": 30,
   "metadata": {},
   "outputs": [],
   "source": [
    "# Calculate annualized average return for each stock. \n",
    "expected_returns = np.mean(df,axis=0)*252\n",
    "\n",
    "# Calculate the variance-covariance matrix\n",
    "cov_matrix = df.cov()\n",
    "\n",
    "cov_array = cov_matrix.values"
   ]
  },
  {
   "cell_type": "code",
   "execution_count": 25,
   "metadata": {},
   "outputs": [],
   "source": [
    "def covariance_test(cov_matrix, col_matrix_range):\n",
    "    \n",
    "    a = np.random.choice(col_matrix_range, cov_matrix.shape[-1])\n",
    "    eigvalues, eigvectors = np.linalg.eig(cov_matrix)\n",
    "    \n",
    "    results = {\n",
    "        \"Positive Definite\": False,\n",
    "        \"Positive Semi-Definite\": False,\n",
    "        \"Symmetric\": False,\n",
    "        \"Positive Determinant\": False,\n",
    "        \"Eigen Values, Positivity\": False\n",
    "    }\n",
    "    \n",
    "    if(a.T @ cov_matrix @ a > 0):\n",
    "        results[\"Positive Definite\"] = True\n",
    "    if((a.T @ cov_matrix @ a == 0) or (a.T @ cov_matrix @ a > 0)):\n",
    "        results[\"Positive Semi-Definite\"] = True\n",
    "    if(np.all(cov_matrix == cov_matrix.T)):\n",
    "        results[\"Symmetric\"] = True\n",
    "    if(np.linalg.det(cov_matrix) >= 0):\n",
    "        results[\"Positive Determinant\"] = True\n",
    "    if(-1 not in np.sign(eigvalues)):\n",
    "        results[\"Eigen Values, Positivity\"] = True\n",
    "        \n",
    "    return results\n",
    "\n",
    "\n",
    "def print_results(result):\n",
    "    for key, value in result.items():\n",
    "        status = \"Passed\" if value else \"Failed\"\n",
    "        print(f'{key}: {status}')"
   ]
  },
  {
   "cell_type": "code",
   "execution_count": 29,
   "metadata": {},
   "outputs": [
    {
     "name": "stdout",
     "output_type": "stream",
     "text": [
      "[[6.74957193e-04 2.44688115e-04 1.03619919e-04 ... 9.80958647e-05\n",
      "  1.27501237e-04 1.48268896e-04]\n",
      " [2.44688115e-04 6.11830121e-04 8.07880559e-05 ... 9.58999620e-05\n",
      "  1.12259920e-04 1.07684412e-04]\n",
      " [1.03619919e-04 8.07880559e-05 2.80130444e-04 ... 4.99911628e-05\n",
      "  8.30920637e-05 9.36075845e-05]\n",
      " ...\n",
      " [9.80958647e-05 9.58999620e-05 4.99911628e-05 ... 2.19988004e-04\n",
      "  7.15225888e-05 5.75004715e-05]\n",
      " [1.27501237e-04 1.12259920e-04 8.30920637e-05 ... 7.15225888e-05\n",
      "  2.80344529e-04 1.13674846e-04]\n",
      " [1.48268896e-04 1.07684412e-04 9.36075845e-05 ... 5.75004715e-05\n",
      "  1.13674846e-04 3.05066554e-04]]\n"
     ]
    }
   ],
   "source": [
    "print(cov_array)"
   ]
  },
  {
   "cell_type": "code",
   "execution_count": 27,
   "metadata": {},
   "outputs": [
    {
     "name": "stdout",
     "output_type": "stream",
     "text": [
      "Positive Definite: Passed\n",
      "Positive Semi-Definite: Passed\n",
      "Symmetric: Passed\n",
      "Positive Determinant: Passed\n",
      "Eigen Values, Positivity: Failed\n"
     ]
    }
   ],
   "source": [
    "results = covariance_test(cov_array, (4, 0))\n",
    "print_results(results)"
   ]
  }
 ],
 "metadata": {
  "kernelspec": {
   "display_name": "base",
   "language": "python",
   "name": "python3"
  },
  "language_info": {
   "codemirror_mode": {
    "name": "ipython",
    "version": 3
   },
   "file_extension": ".py",
   "mimetype": "text/x-python",
   "name": "python",
   "nbconvert_exporter": "python",
   "pygments_lexer": "ipython3",
   "version": "3.11.5"
  }
 },
 "nbformat": 4,
 "nbformat_minor": 2
}
